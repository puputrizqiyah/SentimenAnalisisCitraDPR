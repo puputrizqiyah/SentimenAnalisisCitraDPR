{
 "cells": [
  {
   "cell_type": "markdown",
   "metadata": {},
   "source": [
    "# Pre-processing\n"
   ]
  },
  {
   "cell_type": "code",
   "execution_count": 1,
   "metadata": {},
   "outputs": [],
   "source": [
    "#!/usr/bin/env python3\n",
    "# -*- coding: utf-8 -*-\n",
    "\n",
    "\n",
    "import re\n",
    "\n",
    "\n",
    "#stopword library\n",
    "from Sastrawi.StopWordRemover.StopWordRemoverFactory import StopWordRemoverFactory\n",
    "\n",
    "#stemmer library\n",
    "from Sastrawi.Stemmer.StemmerFactory import StemmerFactory\n",
    "\n",
    "#tokenization library\n",
    "from spacy.lang.id import Indonesian\n",
    "#deklarasi tokenisasi\n",
    "nlp_spacy_id = Indonesian()\n",
    "\n",
    "class Preprocessing(object):\n",
    "    no = 0\n",
    "    \n",
    "    factory = StopWordRemoverFactory()\n",
    "    Sastrawi_StopWords_id = factory.get_stop_words()\n",
    "    stemmer = StemmerFactory().create_stemmer()\n",
    "    \n",
    "#     def __init__(self):\n",
    "#         self.no = 0\n",
    "        \n",
    "#         print (\"Inisialisasi Preprocessing....\")\n",
    "        \n",
    "    def preprocessing(self, text=\"\", casefolding=True, \n",
    "                      removeusername=True,\n",
    "                      removehashtag=False,\n",
    "                      removeemail=True,\n",
    "                      removeURL=True,\n",
    "                      removenonalphabet=False, \n",
    "                      tokenization=True, \n",
    "                      removestopword=True, \n",
    "                      stemming=True):\n",
    "        self.no=self.no + 1\n",
    "        no = self.no\n",
    "        \n",
    "        print(\"[%s] -- sedang melakukan preprocessing\" % (no))\n",
    "        stemmer = self.stemmer\n",
    "        Sastrawi_StopWords_id = self.Sastrawi_StopWords_id\n",
    "        #replacer = self.replacer\n",
    "        \n",
    "\n",
    "        if(text!=\"\"):\n",
    "            if(casefolding):\n",
    "                text = text.lower()\n",
    "            if(removeusername):\n",
    "                username = re.compile(\"(?:^|\\s)[＠ @]{1}([^\\s#<>[\\]|{}]+)\", re.UNICODE)\n",
    "                text = re.sub(username, '', text)     \n",
    "            if(removehashtag):\n",
    "                hashtag = re.compile(\"(?:^|\\s)[＃#]{1}(\\w+)\", re.UNICODE)\n",
    "                text = re.sub(hashtag, '', text)\n",
    "            if(removeemail):\n",
    "                email = re.compile(r'[\\w\\.-]+@[\\w\\.-]+\\.\\w+')\n",
    "                text = re.sub(email, '', text) \n",
    "            if(removeURL):\n",
    "                url = re.compile(r'http[s]?://(?:[a-zA-Z]|[0-9]|[$-_@.&+]|[!*\\\\(\\\\),]|(?:%[0-9a-fA-F][0-9a-fA-F]))+')       \n",
    "                text = re.sub(url, '', text)                    \n",
    "            if(removenonalphabet):\n",
    "                text = ' '.join(re.findall(r'\\b[a-z]+-?[a-z]+\\b',text))\n",
    "            if(tokenization):              \n",
    "                text = nlp_spacy_id(text)\n",
    "                tokens = [token.text for token in text]\n",
    "                text = ' '.join(tokens)\n",
    "            if(removestopword):\n",
    "                temp = [t for t in re.findall(r'\\b[a-z]+-?[a-z]+\\b',text) if t not in Sastrawi_StopWords_id]\n",
    "                text = ' '.join(temp)\n",
    "            if(stemming):\n",
    "                text = stemmer.stem(text)\n",
    "        #print(\"[%s] --- selesai melakukan preprocessing\" % (no))\n",
    "        return(text)"
   ]
  },
  {
   "cell_type": "code",
   "execution_count": 2,
   "metadata": {},
   "outputs": [],
   "source": [
    "preprocessing=Preprocessing()\n"
   ]
  },
  {
   "cell_type": "markdown",
   "metadata": {},
   "source": [
    "# Membaca File"
   ]
  },
  {
   "cell_type": "code",
   "execution_count": 3,
   "metadata": {},
   "outputs": [
    {
     "name": "stdout",
     "output_type": "stream",
     "text": [
      "Jumlah baris dataset: 500\n"
     ]
    }
   ],
   "source": [
    "import pandas as pd\n",
    "\n",
    "dokumen = pd.DataFrame()\n",
    "\n",
    "dataset = pd.read_csv('data_training_DPR.csv',encoding='unicode_escape' )\n",
    "dokumen = dokumen.append(dataset, ignore_index=True)\n",
    "\n",
    "print('Jumlah baris dataset:',len(dokumen.values.tolist()))"
   ]
  },
  {
   "cell_type": "markdown",
   "metadata": {},
   "source": [
    "# Pre-processing"
   ]
  },
  {
   "cell_type": "code",
   "execution_count": 4,
   "metadata": {},
   "outputs": [
    {
     "name": "stdout",
     "output_type": "stream",
     "text": [
      "[1] -- sedang melakukan preprocessing\n",
      "[2] -- sedang melakukan preprocessing\n",
      "[3] -- sedang melakukan preprocessing\n",
      "[4] -- sedang melakukan preprocessing\n",
      "[5] -- sedang melakukan preprocessing\n",
      "[6] -- sedang melakukan preprocessing\n",
      "[7] -- sedang melakukan preprocessing\n",
      "[8] -- sedang melakukan preprocessing\n",
      "[9] -- sedang melakukan preprocessing\n",
      "[10] -- sedang melakukan preprocessing\n",
      "[11] -- sedang melakukan preprocessing\n",
      "[12] -- sedang melakukan preprocessing\n",
      "[13] -- sedang melakukan preprocessing\n",
      "[14] -- sedang melakukan preprocessing\n",
      "[15] -- sedang melakukan preprocessing\n",
      "[16] -- sedang melakukan preprocessing\n",
      "[17] -- sedang melakukan preprocessing\n",
      "[18] -- sedang melakukan preprocessing\n",
      "[19] -- sedang melakukan preprocessing\n",
      "[20] -- sedang melakukan preprocessing\n",
      "[21] -- sedang melakukan preprocessing\n",
      "[22] -- sedang melakukan preprocessing\n",
      "[23] -- sedang melakukan preprocessing\n",
      "[24] -- sedang melakukan preprocessing\n",
      "[25] -- sedang melakukan preprocessing\n",
      "[26] -- sedang melakukan preprocessing\n",
      "[27] -- sedang melakukan preprocessing\n",
      "[28] -- sedang melakukan preprocessing\n",
      "[29] -- sedang melakukan preprocessing\n",
      "[30] -- sedang melakukan preprocessing\n",
      "[31] -- sedang melakukan preprocessing\n",
      "[32] -- sedang melakukan preprocessing\n",
      "[33] -- sedang melakukan preprocessing\n",
      "[34] -- sedang melakukan preprocessing\n",
      "[35] -- sedang melakukan preprocessing\n",
      "[36] -- sedang melakukan preprocessing\n",
      "[37] -- sedang melakukan preprocessing\n",
      "[38] -- sedang melakukan preprocessing\n",
      "[39] -- sedang melakukan preprocessing\n",
      "[40] -- sedang melakukan preprocessing\n",
      "[41] -- sedang melakukan preprocessing\n",
      "[42] -- sedang melakukan preprocessing\n",
      "[43] -- sedang melakukan preprocessing\n",
      "[44] -- sedang melakukan preprocessing\n",
      "[45] -- sedang melakukan preprocessing\n",
      "[46] -- sedang melakukan preprocessing\n",
      "[47] -- sedang melakukan preprocessing\n",
      "[48] -- sedang melakukan preprocessing\n",
      "[49] -- sedang melakukan preprocessing\n",
      "[50] -- sedang melakukan preprocessing\n",
      "[51] -- sedang melakukan preprocessing\n",
      "[52] -- sedang melakukan preprocessing\n",
      "[53] -- sedang melakukan preprocessing\n",
      "[54] -- sedang melakukan preprocessing\n",
      "[55] -- sedang melakukan preprocessing\n",
      "[56] -- sedang melakukan preprocessing\n",
      "[57] -- sedang melakukan preprocessing\n",
      "[58] -- sedang melakukan preprocessing\n",
      "[59] -- sedang melakukan preprocessing\n",
      "[60] -- sedang melakukan preprocessing\n",
      "[61] -- sedang melakukan preprocessing\n",
      "[62] -- sedang melakukan preprocessing\n",
      "[63] -- sedang melakukan preprocessing\n",
      "[64] -- sedang melakukan preprocessing\n",
      "[65] -- sedang melakukan preprocessing\n",
      "[66] -- sedang melakukan preprocessing\n",
      "[67] -- sedang melakukan preprocessing\n",
      "[68] -- sedang melakukan preprocessing\n",
      "[69] -- sedang melakukan preprocessing\n",
      "[70] -- sedang melakukan preprocessing\n",
      "[71] -- sedang melakukan preprocessing\n",
      "[72] -- sedang melakukan preprocessing\n",
      "[73] -- sedang melakukan preprocessing\n",
      "[74] -- sedang melakukan preprocessing\n",
      "[75] -- sedang melakukan preprocessing\n",
      "[76] -- sedang melakukan preprocessing\n",
      "[77] -- sedang melakukan preprocessing\n",
      "[78] -- sedang melakukan preprocessing\n",
      "[79] -- sedang melakukan preprocessing\n",
      "[80] -- sedang melakukan preprocessing\n",
      "[81] -- sedang melakukan preprocessing\n",
      "[82] -- sedang melakukan preprocessing\n",
      "[83] -- sedang melakukan preprocessing\n",
      "[84] -- sedang melakukan preprocessing\n",
      "[85] -- sedang melakukan preprocessing\n",
      "[86] -- sedang melakukan preprocessing\n",
      "[87] -- sedang melakukan preprocessing\n",
      "[88] -- sedang melakukan preprocessing\n",
      "[89] -- sedang melakukan preprocessing\n",
      "[90] -- sedang melakukan preprocessing\n",
      "[91] -- sedang melakukan preprocessing\n",
      "[92] -- sedang melakukan preprocessing\n",
      "[93] -- sedang melakukan preprocessing\n",
      "[94] -- sedang melakukan preprocessing\n",
      "[95] -- sedang melakukan preprocessing\n",
      "[96] -- sedang melakukan preprocessing\n",
      "[97] -- sedang melakukan preprocessing\n",
      "[98] -- sedang melakukan preprocessing\n",
      "[99] -- sedang melakukan preprocessing\n",
      "[100] -- sedang melakukan preprocessing\n",
      "[101] -- sedang melakukan preprocessing\n",
      "[102] -- sedang melakukan preprocessing\n",
      "[103] -- sedang melakukan preprocessing\n",
      "[104] -- sedang melakukan preprocessing\n",
      "[105] -- sedang melakukan preprocessing\n",
      "[106] -- sedang melakukan preprocessing\n",
      "[107] -- sedang melakukan preprocessing\n",
      "[108] -- sedang melakukan preprocessing\n",
      "[109] -- sedang melakukan preprocessing\n",
      "[110] -- sedang melakukan preprocessing\n",
      "[111] -- sedang melakukan preprocessing\n",
      "[112] -- sedang melakukan preprocessing\n",
      "[113] -- sedang melakukan preprocessing\n",
      "[114] -- sedang melakukan preprocessing\n",
      "[115] -- sedang melakukan preprocessing\n",
      "[116] -- sedang melakukan preprocessing\n",
      "[117] -- sedang melakukan preprocessing\n",
      "[118] -- sedang melakukan preprocessing\n",
      "[119] -- sedang melakukan preprocessing\n",
      "[120] -- sedang melakukan preprocessing\n",
      "[121] -- sedang melakukan preprocessing\n",
      "[122] -- sedang melakukan preprocessing\n",
      "[123] -- sedang melakukan preprocessing\n",
      "[124] -- sedang melakukan preprocessing\n",
      "[125] -- sedang melakukan preprocessing\n",
      "[126] -- sedang melakukan preprocessing\n",
      "[127] -- sedang melakukan preprocessing\n",
      "[128] -- sedang melakukan preprocessing\n",
      "[129] -- sedang melakukan preprocessing\n",
      "[130] -- sedang melakukan preprocessing\n",
      "[131] -- sedang melakukan preprocessing\n",
      "[132] -- sedang melakukan preprocessing\n",
      "[133] -- sedang melakukan preprocessing\n",
      "[134] -- sedang melakukan preprocessing\n",
      "[135] -- sedang melakukan preprocessing\n",
      "[136] -- sedang melakukan preprocessing\n",
      "[137] -- sedang melakukan preprocessing\n",
      "[138] -- sedang melakukan preprocessing\n",
      "[139] -- sedang melakukan preprocessing\n",
      "[140] -- sedang melakukan preprocessing\n",
      "[141] -- sedang melakukan preprocessing\n",
      "[142] -- sedang melakukan preprocessing\n",
      "[143] -- sedang melakukan preprocessing\n",
      "[144] -- sedang melakukan preprocessing\n",
      "[145] -- sedang melakukan preprocessing\n",
      "[146] -- sedang melakukan preprocessing\n",
      "[147] -- sedang melakukan preprocessing\n",
      "[148] -- sedang melakukan preprocessing\n",
      "[149] -- sedang melakukan preprocessing\n",
      "[150] -- sedang melakukan preprocessing\n",
      "[151] -- sedang melakukan preprocessing\n",
      "[152] -- sedang melakukan preprocessing\n",
      "[153] -- sedang melakukan preprocessing\n",
      "[154] -- sedang melakukan preprocessing\n",
      "[155] -- sedang melakukan preprocessing\n",
      "[156] -- sedang melakukan preprocessing\n",
      "[157] -- sedang melakukan preprocessing\n",
      "[158] -- sedang melakukan preprocessing\n",
      "[159] -- sedang melakukan preprocessing\n",
      "[160] -- sedang melakukan preprocessing\n",
      "[161] -- sedang melakukan preprocessing\n",
      "[162] -- sedang melakukan preprocessing\n",
      "[163] -- sedang melakukan preprocessing\n",
      "[164] -- sedang melakukan preprocessing\n",
      "[165] -- sedang melakukan preprocessing\n",
      "[166] -- sedang melakukan preprocessing\n",
      "[167] -- sedang melakukan preprocessing\n",
      "[168] -- sedang melakukan preprocessing\n",
      "[169] -- sedang melakukan preprocessing\n",
      "[170] -- sedang melakukan preprocessing\n",
      "[171] -- sedang melakukan preprocessing\n",
      "[172] -- sedang melakukan preprocessing\n",
      "[173] -- sedang melakukan preprocessing\n",
      "[174] -- sedang melakukan preprocessing\n",
      "[175] -- sedang melakukan preprocessing\n",
      "[176] -- sedang melakukan preprocessing\n",
      "[177] -- sedang melakukan preprocessing\n",
      "[178] -- sedang melakukan preprocessing\n",
      "[179] -- sedang melakukan preprocessing\n",
      "[180] -- sedang melakukan preprocessing\n",
      "[181] -- sedang melakukan preprocessing\n",
      "[182] -- sedang melakukan preprocessing\n",
      "[183] -- sedang melakukan preprocessing\n",
      "[184] -- sedang melakukan preprocessing\n",
      "[185] -- sedang melakukan preprocessing\n",
      "[186] -- sedang melakukan preprocessing\n",
      "[187] -- sedang melakukan preprocessing\n",
      "[188] -- sedang melakukan preprocessing\n",
      "[189] -- sedang melakukan preprocessing\n",
      "[190] -- sedang melakukan preprocessing\n",
      "[191] -- sedang melakukan preprocessing\n",
      "[192] -- sedang melakukan preprocessing\n",
      "[193] -- sedang melakukan preprocessing\n",
      "[194] -- sedang melakukan preprocessing\n",
      "[195] -- sedang melakukan preprocessing\n",
      "[196] -- sedang melakukan preprocessing\n",
      "[197] -- sedang melakukan preprocessing\n",
      "[198] -- sedang melakukan preprocessing\n",
      "[199] -- sedang melakukan preprocessing\n",
      "[200] -- sedang melakukan preprocessing\n",
      "[201] -- sedang melakukan preprocessing\n",
      "[202] -- sedang melakukan preprocessing\n",
      "[203] -- sedang melakukan preprocessing\n",
      "[204] -- sedang melakukan preprocessing\n",
      "[205] -- sedang melakukan preprocessing\n",
      "[206] -- sedang melakukan preprocessing\n",
      "[207] -- sedang melakukan preprocessing\n"
     ]
    },
    {
     "name": "stdout",
     "output_type": "stream",
     "text": [
      "[208] -- sedang melakukan preprocessing\n",
      "[209] -- sedang melakukan preprocessing\n",
      "[210] -- sedang melakukan preprocessing\n",
      "[211] -- sedang melakukan preprocessing\n",
      "[212] -- sedang melakukan preprocessing\n",
      "[213] -- sedang melakukan preprocessing\n",
      "[214] -- sedang melakukan preprocessing\n",
      "[215] -- sedang melakukan preprocessing\n",
      "[216] -- sedang melakukan preprocessing\n",
      "[217] -- sedang melakukan preprocessing\n",
      "[218] -- sedang melakukan preprocessing\n",
      "[219] -- sedang melakukan preprocessing\n",
      "[220] -- sedang melakukan preprocessing\n",
      "[221] -- sedang melakukan preprocessing\n",
      "[222] -- sedang melakukan preprocessing\n",
      "[223] -- sedang melakukan preprocessing\n",
      "[224] -- sedang melakukan preprocessing\n",
      "[225] -- sedang melakukan preprocessing\n",
      "[226] -- sedang melakukan preprocessing\n",
      "[227] -- sedang melakukan preprocessing\n",
      "[228] -- sedang melakukan preprocessing\n",
      "[229] -- sedang melakukan preprocessing\n",
      "[230] -- sedang melakukan preprocessing\n",
      "[231] -- sedang melakukan preprocessing\n",
      "[232] -- sedang melakukan preprocessing\n",
      "[233] -- sedang melakukan preprocessing\n",
      "[234] -- sedang melakukan preprocessing\n",
      "[235] -- sedang melakukan preprocessing\n",
      "[236] -- sedang melakukan preprocessing\n",
      "[237] -- sedang melakukan preprocessing\n",
      "[238] -- sedang melakukan preprocessing\n",
      "[239] -- sedang melakukan preprocessing\n",
      "[240] -- sedang melakukan preprocessing\n",
      "[241] -- sedang melakukan preprocessing\n",
      "[242] -- sedang melakukan preprocessing\n",
      "[243] -- sedang melakukan preprocessing\n",
      "[244] -- sedang melakukan preprocessing\n",
      "[245] -- sedang melakukan preprocessing\n",
      "[246] -- sedang melakukan preprocessing\n",
      "[247] -- sedang melakukan preprocessing\n",
      "[248] -- sedang melakukan preprocessing\n",
      "[249] -- sedang melakukan preprocessing\n",
      "[250] -- sedang melakukan preprocessing\n",
      "[251] -- sedang melakukan preprocessing\n",
      "[252] -- sedang melakukan preprocessing\n",
      "[253] -- sedang melakukan preprocessing\n",
      "[254] -- sedang melakukan preprocessing\n",
      "[255] -- sedang melakukan preprocessing\n",
      "[256] -- sedang melakukan preprocessing\n",
      "[257] -- sedang melakukan preprocessing\n",
      "[258] -- sedang melakukan preprocessing\n",
      "[259] -- sedang melakukan preprocessing\n",
      "[260] -- sedang melakukan preprocessing\n",
      "[261] -- sedang melakukan preprocessing\n",
      "[262] -- sedang melakukan preprocessing\n",
      "[263] -- sedang melakukan preprocessing\n",
      "[264] -- sedang melakukan preprocessing\n",
      "[265] -- sedang melakukan preprocessing\n",
      "[266] -- sedang melakukan preprocessing\n",
      "[267] -- sedang melakukan preprocessing\n",
      "[268] -- sedang melakukan preprocessing\n",
      "[269] -- sedang melakukan preprocessing\n",
      "[270] -- sedang melakukan preprocessing\n",
      "[271] -- sedang melakukan preprocessing\n",
      "[272] -- sedang melakukan preprocessing\n",
      "[273] -- sedang melakukan preprocessing\n",
      "[274] -- sedang melakukan preprocessing\n",
      "[275] -- sedang melakukan preprocessing\n",
      "[276] -- sedang melakukan preprocessing\n",
      "[277] -- sedang melakukan preprocessing\n",
      "[278] -- sedang melakukan preprocessing\n",
      "[279] -- sedang melakukan preprocessing\n",
      "[280] -- sedang melakukan preprocessing\n",
      "[281] -- sedang melakukan preprocessing\n",
      "[282] -- sedang melakukan preprocessing\n",
      "[283] -- sedang melakukan preprocessing\n",
      "[284] -- sedang melakukan preprocessing\n",
      "[285] -- sedang melakukan preprocessing\n",
      "[286] -- sedang melakukan preprocessing\n",
      "[287] -- sedang melakukan preprocessing\n",
      "[288] -- sedang melakukan preprocessing\n",
      "[289] -- sedang melakukan preprocessing\n",
      "[290] -- sedang melakukan preprocessing\n",
      "[291] -- sedang melakukan preprocessing\n",
      "[292] -- sedang melakukan preprocessing\n",
      "[293] -- sedang melakukan preprocessing\n",
      "[294] -- sedang melakukan preprocessing\n",
      "[295] -- sedang melakukan preprocessing\n",
      "[296] -- sedang melakukan preprocessing\n",
      "[297] -- sedang melakukan preprocessing\n",
      "[298] -- sedang melakukan preprocessing\n",
      "[299] -- sedang melakukan preprocessing\n",
      "[300] -- sedang melakukan preprocessing\n",
      "[301] -- sedang melakukan preprocessing\n",
      "[302] -- sedang melakukan preprocessing\n",
      "[303] -- sedang melakukan preprocessing\n",
      "[304] -- sedang melakukan preprocessing\n",
      "[305] -- sedang melakukan preprocessing\n",
      "[306] -- sedang melakukan preprocessing\n",
      "[307] -- sedang melakukan preprocessing\n",
      "[308] -- sedang melakukan preprocessing\n",
      "[309] -- sedang melakukan preprocessing\n",
      "[310] -- sedang melakukan preprocessing\n",
      "[311] -- sedang melakukan preprocessing\n",
      "[312] -- sedang melakukan preprocessing\n",
      "[313] -- sedang melakukan preprocessing\n",
      "[314] -- sedang melakukan preprocessing\n",
      "[315] -- sedang melakukan preprocessing\n",
      "[316] -- sedang melakukan preprocessing\n",
      "[317] -- sedang melakukan preprocessing\n",
      "[318] -- sedang melakukan preprocessing\n",
      "[319] -- sedang melakukan preprocessing\n",
      "[320] -- sedang melakukan preprocessing\n",
      "[321] -- sedang melakukan preprocessing\n",
      "[322] -- sedang melakukan preprocessing\n",
      "[323] -- sedang melakukan preprocessing\n",
      "[324] -- sedang melakukan preprocessing\n",
      "[325] -- sedang melakukan preprocessing\n",
      "[326] -- sedang melakukan preprocessing\n",
      "[327] -- sedang melakukan preprocessing\n",
      "[328] -- sedang melakukan preprocessing\n",
      "[329] -- sedang melakukan preprocessing\n",
      "[330] -- sedang melakukan preprocessing\n",
      "[331] -- sedang melakukan preprocessing\n",
      "[332] -- sedang melakukan preprocessing\n",
      "[333] -- sedang melakukan preprocessing\n",
      "[334] -- sedang melakukan preprocessing\n",
      "[335] -- sedang melakukan preprocessing\n",
      "[336] -- sedang melakukan preprocessing\n",
      "[337] -- sedang melakukan preprocessing\n",
      "[338] -- sedang melakukan preprocessing\n",
      "[339] -- sedang melakukan preprocessing\n",
      "[340] -- sedang melakukan preprocessing\n",
      "[341] -- sedang melakukan preprocessing\n",
      "[342] -- sedang melakukan preprocessing\n",
      "[343] -- sedang melakukan preprocessing\n",
      "[344] -- sedang melakukan preprocessing\n",
      "[345] -- sedang melakukan preprocessing\n",
      "[346] -- sedang melakukan preprocessing\n",
      "[347] -- sedang melakukan preprocessing\n",
      "[348] -- sedang melakukan preprocessing\n",
      "[349] -- sedang melakukan preprocessing\n",
      "[350] -- sedang melakukan preprocessing\n",
      "[351] -- sedang melakukan preprocessing\n",
      "[352] -- sedang melakukan preprocessing\n",
      "[353] -- sedang melakukan preprocessing\n",
      "[354] -- sedang melakukan preprocessing\n",
      "[355] -- sedang melakukan preprocessing\n",
      "[356] -- sedang melakukan preprocessing\n",
      "[357] -- sedang melakukan preprocessing\n",
      "[358] -- sedang melakukan preprocessing\n",
      "[359] -- sedang melakukan preprocessing\n",
      "[360] -- sedang melakukan preprocessing\n",
      "[361] -- sedang melakukan preprocessing\n",
      "[362] -- sedang melakukan preprocessing\n",
      "[363] -- sedang melakukan preprocessing\n",
      "[364] -- sedang melakukan preprocessing\n",
      "[365] -- sedang melakukan preprocessing\n",
      "[366] -- sedang melakukan preprocessing\n",
      "[367] -- sedang melakukan preprocessing\n",
      "[368] -- sedang melakukan preprocessing\n",
      "[369] -- sedang melakukan preprocessing\n",
      "[370] -- sedang melakukan preprocessing\n",
      "[371] -- sedang melakukan preprocessing\n",
      "[372] -- sedang melakukan preprocessing\n",
      "[373] -- sedang melakukan preprocessing\n",
      "[374] -- sedang melakukan preprocessing\n",
      "[375] -- sedang melakukan preprocessing\n",
      "[376] -- sedang melakukan preprocessing\n",
      "[377] -- sedang melakukan preprocessing\n",
      "[378] -- sedang melakukan preprocessing\n",
      "[379] -- sedang melakukan preprocessing\n",
      "[380] -- sedang melakukan preprocessing\n",
      "[381] -- sedang melakukan preprocessing\n",
      "[382] -- sedang melakukan preprocessing\n",
      "[383] -- sedang melakukan preprocessing\n",
      "[384] -- sedang melakukan preprocessing\n",
      "[385] -- sedang melakukan preprocessing\n",
      "[386] -- sedang melakukan preprocessing\n",
      "[387] -- sedang melakukan preprocessing\n",
      "[388] -- sedang melakukan preprocessing\n",
      "[389] -- sedang melakukan preprocessing\n",
      "[390] -- sedang melakukan preprocessing\n",
      "[391] -- sedang melakukan preprocessing\n",
      "[392] -- sedang melakukan preprocessing\n",
      "[393] -- sedang melakukan preprocessing\n",
      "[394] -- sedang melakukan preprocessing\n",
      "[395] -- sedang melakukan preprocessing\n",
      "[396] -- sedang melakukan preprocessing\n",
      "[397] -- sedang melakukan preprocessing\n",
      "[398] -- sedang melakukan preprocessing\n",
      "[399] -- sedang melakukan preprocessing\n",
      "[400] -- sedang melakukan preprocessing\n",
      "[401] -- sedang melakukan preprocessing\n",
      "[402] -- sedang melakukan preprocessing\n",
      "[403] -- sedang melakukan preprocessing\n",
      "[404] -- sedang melakukan preprocessing\n",
      "[405] -- sedang melakukan preprocessing\n",
      "[406] -- sedang melakukan preprocessing\n",
      "[407] -- sedang melakukan preprocessing\n",
      "[408] -- sedang melakukan preprocessing\n",
      "[409] -- sedang melakukan preprocessing\n",
      "[410] -- sedang melakukan preprocessing\n",
      "[411] -- sedang melakukan preprocessing\n"
     ]
    },
    {
     "name": "stdout",
     "output_type": "stream",
     "text": [
      "[412] -- sedang melakukan preprocessing\n",
      "[413] -- sedang melakukan preprocessing\n",
      "[414] -- sedang melakukan preprocessing\n",
      "[415] -- sedang melakukan preprocessing\n",
      "[416] -- sedang melakukan preprocessing\n",
      "[417] -- sedang melakukan preprocessing\n",
      "[418] -- sedang melakukan preprocessing\n",
      "[419] -- sedang melakukan preprocessing\n",
      "[420] -- sedang melakukan preprocessing\n",
      "[421] -- sedang melakukan preprocessing\n",
      "[422] -- sedang melakukan preprocessing\n",
      "[423] -- sedang melakukan preprocessing\n",
      "[424] -- sedang melakukan preprocessing\n",
      "[425] -- sedang melakukan preprocessing\n",
      "[426] -- sedang melakukan preprocessing\n",
      "[427] -- sedang melakukan preprocessing\n",
      "[428] -- sedang melakukan preprocessing\n",
      "[429] -- sedang melakukan preprocessing\n",
      "[430] -- sedang melakukan preprocessing\n",
      "[431] -- sedang melakukan preprocessing\n",
      "[432] -- sedang melakukan preprocessing\n",
      "[433] -- sedang melakukan preprocessing\n",
      "[434] -- sedang melakukan preprocessing\n",
      "[435] -- sedang melakukan preprocessing\n",
      "[436] -- sedang melakukan preprocessing\n",
      "[437] -- sedang melakukan preprocessing\n",
      "[438] -- sedang melakukan preprocessing\n",
      "[439] -- sedang melakukan preprocessing\n",
      "[440] -- sedang melakukan preprocessing\n",
      "[441] -- sedang melakukan preprocessing\n",
      "[442] -- sedang melakukan preprocessing\n",
      "[443] -- sedang melakukan preprocessing\n",
      "[444] -- sedang melakukan preprocessing\n",
      "[445] -- sedang melakukan preprocessing\n",
      "[446] -- sedang melakukan preprocessing\n",
      "[447] -- sedang melakukan preprocessing\n",
      "[448] -- sedang melakukan preprocessing\n",
      "[449] -- sedang melakukan preprocessing\n",
      "[450] -- sedang melakukan preprocessing\n",
      "[451] -- sedang melakukan preprocessing\n",
      "[452] -- sedang melakukan preprocessing\n",
      "[453] -- sedang melakukan preprocessing\n",
      "[454] -- sedang melakukan preprocessing\n",
      "[455] -- sedang melakukan preprocessing\n",
      "[456] -- sedang melakukan preprocessing\n",
      "[457] -- sedang melakukan preprocessing\n",
      "[458] -- sedang melakukan preprocessing\n",
      "[459] -- sedang melakukan preprocessing\n",
      "[460] -- sedang melakukan preprocessing\n",
      "[461] -- sedang melakukan preprocessing\n",
      "[462] -- sedang melakukan preprocessing\n",
      "[463] -- sedang melakukan preprocessing\n",
      "[464] -- sedang melakukan preprocessing\n",
      "[465] -- sedang melakukan preprocessing\n",
      "[466] -- sedang melakukan preprocessing\n",
      "[467] -- sedang melakukan preprocessing\n",
      "[468] -- sedang melakukan preprocessing\n",
      "[469] -- sedang melakukan preprocessing\n",
      "[470] -- sedang melakukan preprocessing\n",
      "[471] -- sedang melakukan preprocessing\n",
      "[472] -- sedang melakukan preprocessing\n",
      "[473] -- sedang melakukan preprocessing\n",
      "[474] -- sedang melakukan preprocessing\n",
      "[475] -- sedang melakukan preprocessing\n",
      "[476] -- sedang melakukan preprocessing\n",
      "[477] -- sedang melakukan preprocessing\n",
      "[478] -- sedang melakukan preprocessing\n",
      "[479] -- sedang melakukan preprocessing\n",
      "[480] -- sedang melakukan preprocessing\n",
      "[481] -- sedang melakukan preprocessing\n",
      "[482] -- sedang melakukan preprocessing\n",
      "[483] -- sedang melakukan preprocessing\n",
      "[484] -- sedang melakukan preprocessing\n",
      "[485] -- sedang melakukan preprocessing\n",
      "[486] -- sedang melakukan preprocessing\n",
      "[487] -- sedang melakukan preprocessing\n",
      "[488] -- sedang melakukan preprocessing\n",
      "[489] -- sedang melakukan preprocessing\n",
      "[490] -- sedang melakukan preprocessing\n",
      "[491] -- sedang melakukan preprocessing\n",
      "[492] -- sedang melakukan preprocessing\n",
      "[493] -- sedang melakukan preprocessing\n",
      "[494] -- sedang melakukan preprocessing\n",
      "[495] -- sedang melakukan preprocessing\n",
      "[496] -- sedang melakukan preprocessing\n",
      "[497] -- sedang melakukan preprocessing\n",
      "[498] -- sedang melakukan preprocessing\n",
      "[499] -- sedang melakukan preprocessing\n",
      "[500] -- sedang melakukan preprocessing\n",
      "Done!\n"
     ]
    }
   ],
   "source": [
    "\n",
    "results = []\n",
    "for i,row in dokumen.iterrows():\n",
    "    result = preprocessing.preprocessing(row.tweet, stemming=True)\n",
    "    results.append(result)\n",
    "\n",
    "#simpan hasil preprocessing\n",
    "dokumen[\"PREPROCESSING\"] = results\n",
    "dokumen.to_csv(\"preprocessing1.csv\", index=False)\n",
    "print(\"Done!\")"
   ]
  },
  {
   "cell_type": "code",
   "execution_count": 5,
   "metadata": {},
   "outputs": [
    {
     "name": "stdout",
     "output_type": "stream",
     "text": [
      "[501] -- sedang melakukan preprocessing\n",
      "[502] -- sedang melakukan preprocessing\n",
      "[503] -- sedang melakukan preprocessing\n",
      "[504] -- sedang melakukan preprocessing\n",
      "[505] -- sedang melakukan preprocessing\n",
      "[506] -- sedang melakukan preprocessing\n",
      "[507] -- sedang melakukan preprocessing\n",
      "[508] -- sedang melakukan preprocessing\n",
      "[509] -- sedang melakukan preprocessing\n",
      "[510] -- sedang melakukan preprocessing\n",
      "[511] -- sedang melakukan preprocessing\n",
      "[512] -- sedang melakukan preprocessing\n",
      "[513] -- sedang melakukan preprocessing\n",
      "[514] -- sedang melakukan preprocessing\n",
      "[515] -- sedang melakukan preprocessing\n",
      "[516] -- sedang melakukan preprocessing\n",
      "[517] -- sedang melakukan preprocessing\n",
      "[518] -- sedang melakukan preprocessing\n",
      "[519] -- sedang melakukan preprocessing\n",
      "[520] -- sedang melakukan preprocessing\n",
      "[521] -- sedang melakukan preprocessing\n",
      "[522] -- sedang melakukan preprocessing\n",
      "[523] -- sedang melakukan preprocessing\n",
      "[524] -- sedang melakukan preprocessing\n",
      "[525] -- sedang melakukan preprocessing\n",
      "[526] -- sedang melakukan preprocessing\n",
      "[527] -- sedang melakukan preprocessing\n",
      "[528] -- sedang melakukan preprocessing\n",
      "[529] -- sedang melakukan preprocessing\n",
      "[530] -- sedang melakukan preprocessing\n",
      "[531] -- sedang melakukan preprocessing\n",
      "[532] -- sedang melakukan preprocessing\n",
      "[533] -- sedang melakukan preprocessing\n",
      "[534] -- sedang melakukan preprocessing\n",
      "[535] -- sedang melakukan preprocessing\n",
      "[536] -- sedang melakukan preprocessing\n",
      "[537] -- sedang melakukan preprocessing\n",
      "[538] -- sedang melakukan preprocessing\n",
      "[539] -- sedang melakukan preprocessing\n",
      "[540] -- sedang melakukan preprocessing\n",
      "[541] -- sedang melakukan preprocessing\n",
      "[542] -- sedang melakukan preprocessing\n",
      "[543] -- sedang melakukan preprocessing\n",
      "[544] -- sedang melakukan preprocessing\n",
      "[545] -- sedang melakukan preprocessing\n",
      "[546] -- sedang melakukan preprocessing\n",
      "[547] -- sedang melakukan preprocessing\n",
      "[548] -- sedang melakukan preprocessing\n",
      "[549] -- sedang melakukan preprocessing\n",
      "[550] -- sedang melakukan preprocessing\n",
      "[551] -- sedang melakukan preprocessing\n",
      "[552] -- sedang melakukan preprocessing\n",
      "[553] -- sedang melakukan preprocessing\n",
      "[554] -- sedang melakukan preprocessing\n",
      "[555] -- sedang melakukan preprocessing\n",
      "[556] -- sedang melakukan preprocessing\n",
      "[557] -- sedang melakukan preprocessing\n",
      "[558] -- sedang melakukan preprocessing\n",
      "[559] -- sedang melakukan preprocessing\n",
      "[560] -- sedang melakukan preprocessing\n",
      "[561] -- sedang melakukan preprocessing\n",
      "[562] -- sedang melakukan preprocessing\n",
      "[563] -- sedang melakukan preprocessing\n",
      "[564] -- sedang melakukan preprocessing\n",
      "[565] -- sedang melakukan preprocessing\n",
      "[566] -- sedang melakukan preprocessing\n",
      "[567] -- sedang melakukan preprocessing\n",
      "[568] -- sedang melakukan preprocessing\n",
      "[569] -- sedang melakukan preprocessing\n",
      "[570] -- sedang melakukan preprocessing\n",
      "[571] -- sedang melakukan preprocessing\n",
      "[572] -- sedang melakukan preprocessing\n",
      "[573] -- sedang melakukan preprocessing\n",
      "[574] -- sedang melakukan preprocessing\n",
      "[575] -- sedang melakukan preprocessing\n",
      "[576] -- sedang melakukan preprocessing\n",
      "[577] -- sedang melakukan preprocessing\n",
      "[578] -- sedang melakukan preprocessing\n",
      "[579] -- sedang melakukan preprocessing\n",
      "[580] -- sedang melakukan preprocessing\n",
      "[581] -- sedang melakukan preprocessing\n",
      "[582] -- sedang melakukan preprocessing\n",
      "[583] -- sedang melakukan preprocessing\n",
      "[584] -- sedang melakukan preprocessing\n",
      "[585] -- sedang melakukan preprocessing\n",
      "[586] -- sedang melakukan preprocessing\n",
      "[587] -- sedang melakukan preprocessing\n",
      "[588] -- sedang melakukan preprocessing\n",
      "[589] -- sedang melakukan preprocessing\n",
      "[590] -- sedang melakukan preprocessing\n",
      "[591] -- sedang melakukan preprocessing\n",
      "[592] -- sedang melakukan preprocessing\n",
      "[593] -- sedang melakukan preprocessing\n",
      "[594] -- sedang melakukan preprocessing\n",
      "[595] -- sedang melakukan preprocessing\n",
      "[596] -- sedang melakukan preprocessing\n",
      "[597] -- sedang melakukan preprocessing\n",
      "[598] -- sedang melakukan preprocessing\n",
      "[599] -- sedang melakukan preprocessing\n",
      "[600] -- sedang melakukan preprocessing\n"
     ]
    },
    {
     "name": "stdout",
     "output_type": "stream",
     "text": [
      "['peristiwa tarik jadi dpd ri apa yg jadi sasar tembak uu dpdri dpd', 'gaduhpolitik vs gbhn segera muncul pasca rakernas pdip kayak iklan rokok ga gaduh ga rame', 'partai menang rasa cundang lupa kalau sang yg selalu recokin kader oposisisejati', 'didienazhar pdip isyarat tak restu lantik pimpin baru dpr ri hahahaha dendam', 'presiden pilih langsung rakyat lalu dpr lengser apa pilih rakyat dpr', 'emmmm gana buat kegitu tp revisi pa ngak', 'akan revisi utk kocok ulang pimpin dpr dpr mau adil benar', 'andai sn henti ketua dpr gantiin golkar', 'pimpin dpr savedpr mkdpic twitter com jzaknsjtqv', 'sidang putus sanksi setya novanto lawannnnn akbar faisal mkd savedpr', 'ketua dpr naik harga beras medium segera henti', 'lilywahid ajuakan judicial review mk', 'pdip dadak lesu tak yakin revisi uu gol', 'body status dewibet jkt kalau mau jujur pdip hak jadi pimpin surabaya teamk wanita dewipic twitter com', 'pdip minta pimpin dpr segera inisiasi revisi uu', 'safari bagai elemen sadar ato tdk sadar sbnrnya krn salah yg tdk bs kuasa ketua', 'wkwkwk lucu anggota independen hayu ganti', 'cc pimpin dpr bs henti dg tarik henti partai pic twitter com', 'enggak bisa oum qt pimpin dpr bs henti dg tarik henti partai', 'betul pimpin dpr wakil lembaga tp usul fraksi bs henti partai pic twitter com', 'pasal ayat sdh cukup bg partai utk henti kader yg jd pimpin dpr pic twitter com', 'pimpin dpr bs ganti krn henti partai politik pic twitter com', 'bakal calon pimpin dpr usul fraksi fraksi atas tuju partai pic twitter com', 'coba perhati tugas pimpinandpr wakil lembaga bukan partai pic twitter com gyklghuiop', 'rt talkshow makassar tv ttg revisi hasrullah dosen sospol unhas', 'keren rt tuju soehat airport awal giat didik politik revisi timur indonesia', 'bk dpr bs laku usut investigasi stelah terima lapor publik thd langgar etika angg dewan suapkemenpora', 'the loser takes all indonesia', 'baleg rapat internal dgn tenaga ahli ttg rencana usul ubah agustus', 'sukur aspirasi legal apresiasi kerja sama dgn', 'anggto dpr sangka korupsi tolak periksa krn hasil karya sby demokrat walkout ingetkan', 'alas uu segera revisi prolegnas lekslawyer jakartalawyer', 'hamdanzoelva turut mulus tolak jr mk', 'foiindonesia siar pers koalisi masyarakat sipil pic twitter com', 'roy salam tambah hak anggota dpr apa', 'roy salam kesiap anggota dpr tanggung jawab anggar', 'uu laku ketua dpr dpr kebal hukum dprri pic twitter com miivnxofvv', 'pdi juang diy apresiasi upaya uji materi uu mk mk mahkamahkonstitusi ujimateri', 'tampil ahmad basarah utut adiyanto tunjuk proses kaderisasi pimpin partai jalan makin baik sistemik monitornews', 'gugat presiden tak perlu terbit perppu', 'pb pmii gugat uu mk pmii mk kilasnews', 'ketua dpr uu tak lindung anggota dewan kpk bamsoet kpk', 'langkah putus resiko generasi zaman now pansusangketkpk generasi zaman now tak simpatik partai lama waspada suara tak pindah hati', 'uu no buah amandemen uud prijanto', 'ayo ajar baca yg bener', 'takadaperpu takadapemilu golput matirasa bukan wakil rakyat wakil partai', 'si zonk komen gak', 'uu blm cerah prof jgn msyrkt malas pilih milu mohon kasih cerah prof raja sgala raja takut rakyat takadaperpu takadapemilu golput matirasa merekabukanwakilrakyat merekawakilpartai', 'tak perpu tak milu golput mati rasa tolak merekabukanwakilrakyat merekawakilpartai', 'dpr bersikukuh kritik rendah beda apa maksud dpr asumsi', 'perlu ingat baik pdip maupun gerindra dukung', 'presiden jokowi tetap sikeras menandatangani revisi monitornews', 'juang lalu judicial review perlu dapat dukung luas publik jadi satu advokasi hukum gera politik jr mk judicialreview dpr', 'aneh nyata kata partai baru visi baru dengar suara masyarakat gugat presidentialthreshold meng atas nama suara masyarakat gugat lha presiden nya aja bingung tanda tangan', 'cerdas amat bungkam staf khusus dpr kait panggil paksa siapa rendah dpr', 'jadi orang yg cerdas siapa presiden klu indonesia sarang koruptor rakyat indonesia gak bakal hidup sejahtera klu presiden pro dgn koruptor rakyat tambah sengsara', 'uu jokowi sebut balik badan usai uu sah dpr rakyat marah besar', 'moga rakyat telantar wakil mau dengar keluh kesah keluhanrakyat rakyatindonesia suararakyat rakyatindonesiabersatu pilpres twitter com', 'walaupun ga teken tinggal tunggu hari impor laku sah', 'uud pasal ayat segala warga negara sama duduk hukum pasal periksa anggota dpr yg hadap kasus hukum hrs dapat timbang mkd lah klo mkd konco makansuap si oknum dpr yg libat kasus gmn', 'bikin krn kupingtipis tdk mau kritik rakyat fahrihamzah klo ga kupingtebal alias kupingtipis jgn tinggal indonesia jadi yg revisi jgn tinggal indonesia dong gmn nih', 'resmi terap dampak pasal hina uu', 'serius tolak uu jokowi tantang terbit perpuu jokowidodo', 'jgn marah sah sblm pasal hina presiden sah dlu kan jadi klo yg ngeluh demokrasi mnurun come on udah lama keleus', 'jokowi nilai tengah main drama politik kait uu jokowi muhammadiyah', 'presiden joko widodo enggan menandatangani uu sebut drama belaka monitornews', 'perintah beri nomor hasil revisi uu menkum ham yasonna laoly', 'uji twitter com', 'sikap tak mau menandatangani uu nilai danhil anzar bagi drama politik jokowi akuratco news pic twitter com', 'mkd pasti sulit presiden monitornews', 'mhn ditindaklanjuti sebar hoax yg lindung dg', 'yeess menang rakyat anggota dpr wakil rakyat siap kritik dpr dprantikritik oooo tiddakk bissa rakyat menang', 'tjahjo kumolo minta dpr ri terima taat putus mahkamah konstitusi mk anulir beberapa pasal kontroversial uu mpr dpr dprd dpd ri putusanmk', 'terimakasih mk mohon uji materi uu kabul mk arti dpr laku panggil paksa pidana siapa anggap rendah martabat dpr judicialreview dpr mpr uu rakyatmenang merdekapic twitter com', 'jumlah istimewa dpr uu batal mk jumlah istimewa dpr batal mahkamahkonstitusi', 'mk batal pasal uu anggota dewan enggan komentar', 'mk batal uu anggota dpr laku tindak pidana ganti', 'uji materi uu putus mk menang rakyat atas dpr', 'mk batal wewenang dpr laku panggil paksa mahkamahkonstitusi', 'manusia drama suka cipta suka ada dalam sadar suka this welcome pilkada daruratdemokrasi', 'akan ronny jadi korban pertama uu keadilanuntukronny celah anggota dpr herman hery lolos jerat kasus aniaya', 'mahkamah konstitusi gelar sidang lanjut uji uu mk elshintanewsupdate', 'mervin optimis produk perda acu arif lokal dpdri anggotadpdri mervinsadipunkomber fakfak lewat dpdri', 'soal perintah tak kalah dpr', 'dah zaman dulu kale cm masalah tuh maling alias koruptor maling triliun yg sdh maju ekonomi rakyat indonesia tanya krn dpr tdk mau bikin uu hukumanmati buat koruptor dpr malah lawan dgn pansus dpr bikin', 'indonesia trend alih isu mslh mslh yg besar akan hanyut dgn mslh kecil misal mslh ektp mslh novelbaswedan isu lgbt isu pki mslh mslh chatsex mslh narkoba mslh puisisukmawati mslh kitab suci fiksi jadi mslh mana yg hrs bahas', 'mk gelar sidang uji', 'mk gelar tiga sidang perkara uji uu hukum mk', 'mk gelar sidang lanjut uji uu jambi serujambi serunesia', 'kayak si wakil rakyat sengaja komentar hatespeech netizen utk uji dprri', 'dpr jgn ngeluh klo masyarakat anggap tdk pantas hormat lindung dpr buat lawan hukum', 'tentang merdeka serikat kumpul keluar pikir lisan tulis bagai tetap undang tentang dgn azas equality before the law alias semua orang sama depanhukum ahh fahrihamzah', 'jd tameng dpr laku tdk puji lontar kata bangsat moga langsung dpt hukum atasannnya allah mahakuasa alam semesta', 'uu atur sandera mana logika hukum dpr klikrmol', 'dpd ri siap atur tambah satu kursi pimpin dpdri penambahankursipimpinan badankehormatandpdri mervinsadipunkomber jakarta lewat dpdri', 'oke mulai sekarang mw jadi anggota dpr aja hukum hampic twitter com', 'fahri magang jepang sempat emas', 'kosgoro dorong golkar amandemen uu klikrmol', 'ironis quote progresif kayak gin ditweet dpr sama sekali ga wakil vox populi misal malu kesah bumiitujajargenjang', 'sampai kritik sopan waktu tempat tepat kan ga masalah harus dua belah pihak memang udah lewat banget cara gantung pihak sikap konteks wajar', 'agung laksono dorong golkar lopor amendemen uu profandalanpilihanku', 'gamparin org nyulik bini org makan ga bayar kl hakim vonis thn meski inkracht van gewijsde ga mslh buat pimpin dpr', 'jadi sangka novanto ketua dpr mundur rujuk uu setyanovanto ketuadpr', 'polri tolak hadir miryam pansus dpr ancam stop anggar kpk polri kpk dpr polri', 'kpk minta dpr tunjuk surat absah pansus angket kpk dpr pansusangket miryamharyani', 'kpk tolak hadir miryam pansus dpr kali tak hadir jemput paksa dpr kpk pansusangket', 'pks kritik wacana revisi uu wajib fraksi kirim wakil angket kpk pks fraksidpr', 'aneh dpr kes mau dpd libat dpdri dpdri ruupenyelenggaraanpemilu jakarta lewat', 'wow anggota dpr pengin kebal hukum', 'masuk undang udang jangan rekayasa suara rakyat', 'dpd rasa tdk salah alamat hadir rapat konsultasi baleg', 'dpd dpd hak ikut bahas ruu yg kait dgn daerah punya hak yg sm dgn dpr perintah baleg', 'baleg dpd masuk institusi yg atur dpd hak beri masuk', 'moga efektivitas tanya nanti', 'pimpin dpr serah bahas revisi uu panja more dpr dpd mpr iblam stihiblam kampushukumpic twitter com', 'masa sidang dpr tutup revisi uu tunda', 'gerindra tak berat uu revisi nasional kocokulangpimpinandpr pic twitter com', 'perintah siap kebut revisi uu penuh ingin pdip', 'body status dewibet jkt umum pan juang pdip dapat kursi surabaya teamk wanita dewipic twitter com', 'pimpin dpr serah bahas revisi uu panja more dpr dpd mpr iblam stihiblam kampushukumpic twitter com', 'lbh jakarta klien paralegal unjuk rasa hapus pasal depan mk twitter com', 'ket mpr minta jokowi redam kgaduhn pol mslhnya prdk uu diakhirmasa dpr lalu yg paksa buat uupilkada', 'perpupilkada tdk yg lama klo nurani pihak rakyat lama karna yg pikir penting klompok', 'mau ubah satu pasal aja debat satu masa sidang soal administrasi perpupilkada', 'produk legislasi uupilkada harus jalan bagaimana layak undang', 'gak anggota dpr teriak soal revisi pasal tanya mikir', 'ini dokumen penandatangan revisi point ubah semua fraksi menhukhampic twitter com', 'kih skak math kmp akhir sepakat tandatangani wartabuitenzorg', 'tanda tangan revisi akhir kih kmp islah wartabuitenzorg', 'jadi tinjau dpd walk out rapat revisi uu jpnn', 'pasal revisi uu baru nasional news revisi uu', 'kmp kih satu paripurna dpr tuju ruu baru jpnn', 'revisi uu prediksi bakal langsung singkat news politik uu', 'daulat ngra ketua parpol', 'dpr bentuk pansus revisi uu news politik bentuk dpr pansus uu', 'pimpin dpr bahas uu ideal tahun depan nasional news bahas dpr uu', 'kelahi rt dpd minta dpr patuh uu jpnn', 'dpd minta dpr patuh uu jpnn', 'dpr pasti revisi uu dpd jpnn', 'dpd minta jokowi segera keluar perppu jpnn', 'dpr takak pasang foto parah ngaconya mk koq lolos uu jokowijk kih kabinetkerja', 'baleg minta dpd ubah poin jadi pr baru dpr senatorjakarta', 'oooo sampel pilih gubernur langsung pakai demo gubernurtandingan', 'baleg undang dpd bahas revisi besok senatorjakarta', 'jpnncom revisi uu dpd anggap kriminalisasi konstitusi jpnn', 'lu rame tak ajak bahas revisi uu dpd ancam mogok jpnn', 'besok rencana revisi uu bawa paripurna dpr jpnn', 'tak ajak bahas uu dpd tuding dpr langgar uud jpnn', 'hindar revisi uu tele dpr pilih tinggal dpd jpnn', 'dpr bakal libat dpd bahas revisi uu jpnn', 'revisi uu dpd protes minta libat regional libat dpd revisi uu', 'kontroversial hasil rekayasa politik kontroversial jadi sumber masalah salah', 'menkumham usul dpd libat bahas uu nasional news bahas dpd usul uu', 'kpk kalau dpr mau revisi uu hebat regional dpr uu', 'revisi uu batas revisi', 'jangan tangis korban uu frederik radjawane menang saksi mahkamah konstitusi kamis mei rasa jadi korban langsung uu yuk ikut kisah video bro sis psi samasamapic twitter com', 'balikin balikin hak demokrasi rakyatmenggugat', 'ikut jelas singkat sama rakyat tolak uu bukti konsistensi pihak nyata ppp trhdp gelombang tolak masyarakat ubah uu ppp tdk hadir dlm lantik tambah pimpin mpr siang hari', 'pasal mungkin pidana masyarakat kritik dpr anggota dpr', 'ikut link petisi', 'begini mesti diviralkan biar ga mesti bungkam ama uu saveindonesia', 'salam gera tolaknyia tolak', 'aksi kamis makassar gelar aksi solidaritas tolak uu rkuhp kamis april wita depan monumen mandala makassar aksikamisanmakassar joinforces relawankomite maribersama bersatubersamaberlawan kebebasanberekspresi pic twitter com', 'segera ikut masyarakat lebih luas', '', 'akibat uu semena mena', 'tolak', 'bang mohon lindung rakyat keluarga besar menteri agama yg hina oknum anggota dpr', 'mbak mohon angkat ttg oknum anggota dpr hina keluarga besar menteri agama dgn kata bangsat', 'pak mohon angkat tema oknum anggota dpr hina keluarga besar menteri agama', 'akibat uu jadi laporkanarteriadahlan', 'tuju pribadi tetap tolak uu romahurmuziy', 'partai nyata gerak sama rakyat juang aspirasi rakyat bangun satu satu bangsa bangga dg tum ny romahurmuziy', 'tolak keras biar ngga laku', 'bahas yg sedang panas lupa kalian dpr bahwasanya kalian duduk kursi empuk ruang sejuk tp kalian dpr sok tanduk jabat kalian amanah rakyat tp kalian laku bangsat bubarkandpr', 'rakyat rakyat rakyat sumber majalah tempo edisi pekan pic twitter com', 'kini resmi jadi uu sahabat kerja henti kamu terus suara dukung bantu terus gerak aksi kamu sangat arti dukung icw lalu donasi publik bantu sebar petisi klik link bio pic twitter com', 'kabar baik kait masalah uu takadaperpu takadapemilu golput matirasa merekabukanwakilrakyat merekawakilpartai', 'perlu tahu pak presiden jokowi daerah serentak pakat tolak uu pmii untuknegripic twitter com', 'tolak aksi mana mulia tau kan dprngapayak', 'ngapain milih anggota dpr kalo yg nyata ngewakilin kantor maha megah gaboleh kritik', 'selamat pagi pagi jalan jakarta depok nyaman krn lancar moga weekend semua lancar nyaman gaess mo kasi tau aja kalo tetap tolakhti', 'dengar dapat kiai soal syariat islam pancasila usung adil warga mata hukum beda jabat fungsional', 'jari mana jari kontras', 'demokrasi korban banyak trisakti', 'masyarakat sipil tolak bal democracy forum tolakuupilkada', 'uu uu pilkada tdk langsung rupa bentuk berangus hak konstitusi rakyat uupilkadatidaklangsung', 'pak tolakruupilkada tolak koalisi merah yg kata putih', 'tolak pilih langsung pic', 'rakyat jangan mau uang miliyaran sogo pilkada jatuh ketang anggota dprd enak', 'beli kucing karung woy ruu pilkada', 'dukung pilih gubernur wakil gubernur lewat dprd saveahok', 'jangan biar', 'jadi jabat bersih jangan korupsi bukan halang kerja lembaga korupsi', 'cara mudah ikut petisi tolak uu dpr kebal hukum kontan online krn rugi masyarakat', 'lama rakyat beri bebas pilih kpla daerah tap ttap aja ribut nettagrace selamatkanindonesia', 'sbg rkyt indonesia sy krg dapat dgn kesah uu dr dpr salah satu pasal yg krusial ad ps huruf ps sgt rentan disalahgunakan dpr bs cipta lembaga superbody yg kebal hukum ironis potensi bungkam demokrasi indonesia', 'hormat datang sikap tingkah laku paksa ripdemokrasi', 'gak dong jadi lindung anggota dpr libat tindak pidana wakilrakyat', 'wenang dpr jangan salah guna dpr cipta uu adil wakilrakyat', 'anggap khianat atur tata negara indonesia', 'wenang legislasi milik dpr manfaat hasil suatu undang adil bekerjauntukrakyat bekerjauntuknegarapic twitter com', 'bukan justru cipta mekanisme lindung tindak jahat laku legislator wakilrakyat twitter com', 'usaha kesah cara defensif protektif anggota dpr hadap hukum wakilrakyat', 'jadi wenang dpr paling superior banding lembaga eksekutif maupun yudikatif bekerjauntukrakyat bekerjauntuknegarapic twitter com', 'sidi anggota dpr lalu izin tulis presiden timbang mahkamah hormat dewan mkd pic twitter com', 'coba evaluasi kaji ulang kait dpr', 'sekaligus ambil peran lembaga wenang panggil paksa orang pasal uu sebut wakilrakyat bekerjauntukrakyat', 'lindung diri anggota dpr yg sandung tindak pidana masa datang wakilrakyat bekerjauntukrakyat', 'dua pasal indikasi dpr sedang proses jadi lembaga milik wenang paling superior wakilrakyat', 'perlu laku evaluasi kaji dalam wakilrakyatpic twitter com', 'dpr sendiri milik wenang bidang legislatif batas fungsi anggar awas legislasi wakilrakyat bekerjauntukrakyatpic twitter com', 'harus wenang milik aparat tegak hukum bekerjauntukrakyat bekerjauntuknegarapic twitter com', 'dpr kalau mau manggil orang tangan polisi nama jadi tegak hukum enggak usah jadi lembaga legislatif wakilrakyat twitter com', 'dpr sebut peran dpd atur revisi uu md wakilrakyat bekerjauntukrakyatpic twitter com', 'nah pasal uu md potensi langgar konstitusi dprpic twitter com', 'ofensif represif panggil paksa orang wakilrakyatpic twitter com', 'dpr adil salah salah benar benar wakilrakyatpic twitter com', 'gak malah beri wenang dpr paling superior banding lembaga eksekutif yudikatif wakilrakyat bekerjauntukrakyatpic twitter com', 'warga negara baik punya masalah hukum wajib datang wakilrakyatpic twitter com', 'jangan jadi payung lindung anggota dpr yg laku tindak pidana', 'dpr punya fungsi yuridis manggil orang salah atur ketatanegaraan wakilrakyat', 'libat timbang mkd syarat periksa hukum kait tindak pidana anggota dpr wakilrakyat bekerjauntukrakyatpic twitter com', 'tampil sederhana ramah selalu senyum sosok drs fadholi anggota dpr ri fraksi partai nasdem periode wakil rakyat daerah pilih kendal semarang ungar salatiga', 'wenang dpr jangan jusru cipta mekanisme lindung tindak jahat yg laku legislator dong dprpic twitter com', 'mekanisme awas evaluasi turun tata tertib dpd pic twitter com', 'coba evaluasi kaji ulang kait pic twitter com', 'potensi langgar konstitusi dprpic twitter com', 'dpr sendiri milik wenang bidang legislatif batas fungsi anggar awas legislasi wakilrakyat twitter com lljfhmzwzo', 'kerja bagai kumunitas sama visi misi dpr dpr sih sibuk dprogahdikritik', 'dprogahdikritik selalu tarik bincang pic twitter com', 'artis daia tv mulu kangen ngiklan daia dprogahdikritik', 'dpr kritik kpk jg dbahas knp bahas dpr selalu tdk lepas dri bahas korupsi apa mngkin mslh sejahtera bagaimana dgn rakyat yg blm sejahtera matanajwaonstagemalang matanajwaonstage dprogahdikritik kpk namamutakharum rakyatkuasapic twitter com', 'politik dprogahdikritik indonesia nyindir pakai otak berfikir jangan nafsu guna proses lebih arti hasil cara dapat instan salam ubah pakaiotakpic twitter com', 'gak tertib banget diskusi krn jelas mas potong tubi tubi si potong omong bilang pasal tuju utk beri wewenang kpd mkd utk wakil dpr jadi wakil rakyat mau wakil wakil lap dprogahdikritik', 'pasal karet tegas dewan hormat pihak hormat rakyat so ruu prolegnas lebih penting substansi dprogahdikritik', 'dpr kritik bahkan nyinyir nah gilir mau kritik rakyat kok cari lindung guna hak imunitas dg egol uu sungguh sangat sayang yg gaji rakyat tak mau kritik dprogahdikritik', 'dprogahdikritik tdk tuju pengritik dpr pidana dpr kerja banyak cuma mengritik perintah lha kalau pengritik ogah kritik bubar milu rakyat tdk usah pilih dpr cukup pilih dpd hemat apbn triliun kurang korupsi', 'suka kritik tp gamau kritik yekan dprogahdikritik', 'sedikit argumen lawan sikap anti kritik dpr siapa tahu guna dprogahdikritik pic twitter com', 'tunjuk prilaku tehormat perlu buat minta hormat mirisdpr dprogahdikritik dprtaik', 'kalo persepsi makna sih hati kritik dprogahdikritik pic twitter com', 'terima kasih johnny plate atas diskusi dprogahdikritik hari saksi terus kata netizen kamis pukul wib', 'dprogahdikritik jgn pilih pilih thn depan titik', 'sangat tdk tuju dg dpr dprogahdikritik', 'dprogahdikritik gamau kritik percaya rakyat perintah makin pudar', 'kerja yg paling enak jadi wakil rakyat cuma buat uu lindung uu gooksss bgt dah dprogahdikritik aktivis', 'masihh pantas dibillang dewan hormat hedehhh dprogahdikritik', 'kalo kerja bagus kok takut kritik jangan pilih wakil rakyat yg mau kritik wakil aja kok belagu dprogahdikritik', 'hey bung yg sana bukan dewa pahlawan super yg tdk kritik apa takut kl kritik tahu belang he he kl singgung monggo dprogahdikritik', 'kritik baik hina baik tdk gantung dri sikap perilaku jadi sehrsnya anggota dewan terima kritik tunjuk kerja yg baik masyarakat akn merespon beda kerja baik tdk korupsi dprogahdikritik', 'beda kritik hina sebenernya definisi apa generasi menetukan beda kritik hina mungkin kopikers bantu jawab dprogahdikritik katanetizen', 'dprogahdikritik kalau gak mau kritik kembali mandat rakyat keluar anggt dpr', 'butuh kritik nyata kritik rakyat aja gak pernah denger buat apa percuma dprogahdikritik aktivis', 'dprogahdikritik kl gak cabut lebih baik boikot pileg buat apa pilih orang yg gak mau kritik kompastv', 'sesuai sila pertama tuhan kritik dprogahdikritik', 'lembaga baik jgn kritik usik mreka pintar jgn lawan dprogahdikritik aktivis', 'dprogahdikritik usah gugat mk biar hancur negara semua orang yg ikut sidang kesah uu masuk penjara semua', 'dprogahdikritik emang kritik emang nya punya telinga tiap swara rakyat aja tahu dengar welcome back rezim dpr', 'mau jadi tirani jaman orba entah jadi apa negeri duet memang maut dprogahdikritik kompastv katanetizen', 'kalau gak mau kritik mending jangan jadi wakil rakyat dprogahdikritik', 'lah min uu lindung nya dprogahdikritik', 'prof pak presiden ttd dulu besok langsung keluarin perpu cabut uu salam bubarkandpr', 'jahat buat bangsa lewat uu baik bubar yg baru bubarkandpr', 'tahun baru mau rampung uu cepet kelar bubarkandpr terorismebukanislam terorismedsos kamitidaktakut', 'pantes anggota dewan gk yg hidup enak hari tua karen banyak yg ngedoain laknat anggota dpr masa kerja tobat bubarkandpr', 'berat pers maupun media gk dong tulis berita yg jelek tntg dpr konyol bubarkandpr', 'bubarkandpr bubarkandpr bubarkandpr bubarkandpr bubarkandpr bubarkandpr gk kritik asuuuuuukabeh', 'kalau uu laku bagus dpr bubar aja buat apa kalo gak kritik bubarkandpr', 'sekali kartumerahdpr', 'dpr prnjaga gawang demokrasi kartumerahdpr', 'atas kesah yg rontok demokrasi beri kartumerahdpr', 'kartu merah besar dpr kartumerahdpr', 'moga jadi nyata yak kartumerahdpr kartumerahfadlizon dkk', 'senang terus hina wakil makin banyak bicara makin tampak bodoh bapak kartumerahdpr barisanparacebong', 'klo pakde jokowi dapet kartu kuning dpr skors karna ulang dpet kartu merah kartumerahdpr', 'kartu merah dpr kartumerahdpr', 'kartumerahdpr moga tidah pilih', 'masyarakat beri kartu merah kerja semua dpr bukan wakil rakyat indonesia parlemen kartumerahdpr', 'wakil ketua dpr ri taufik kurniawan jangan tangan ustadz cepat joshua lambat wakilketuadprri taufikkurniawan dprri uzma uas', 'selamat bapak atas lantik ketua dprri moga senantiasa beri kuat rahmat allah swt jalan amanah dgn baik amiin', 'ketua dpr hubung dpr kpk harmonis dprri ketuadprri bambangsoesatyo kpk jakarta', 'komisi ii mendagri rapat verifikasi parpol dprri', 'zulkifli hasan minta bambang benah kerja dpr mprri dpr mpr ketuampr dprri ketuadprri jakarta', 'yayasan nurani indonesia dpr ri darmadi durianto ucap toko euro buka toko baru moga sukses maju jaya tanah abang tgl januari dprri darmadiduriantopic twitter com', 'dpdri politis senior pdip sabam sirait jadi anggota dpd ri nusabali berita pdip dprri poitisi sabamsirait', 'setnov harap bambang soesatyo jadi dpr wibawa setyanovanto golkar partaigolkar dprri ketuadprri', 'hari tanggal januari bambang soesatyo lantik ketia dpr ri menggantkan setya novanto politikbaik dprri pic twitter com', 'golkar umum ketua dpr revisi uu golkar anggotadewan berita nusabali wakilrakyat golkar dprri pic twitter com', 'hendak kamu buat baik ibu bapak kaum kerabat anak yatim qs an nisaa doa selalu curah untuk anak anak semua hew hartantoedhiewibowo anggota dpr dprri fpddprri partaidemokrat demokratpeduli anakyatim demokratpic twitter com', 'dirgahayu juang kesejahterahan rakyat darmadidurianto dprri', 'golkar ganti setnov tunggu hasil revisi uu golkar dprri setyanovanto jakarta', 'dpr golkar aju nama ganti novanto dprri ketuadprri ketuaumumgolkar setyanovanto partaigolkar', 'sama pdi juang juang sejahtera rakyat juliaribatubara pdiperjuangan dprri komisivi bksap twitter com clszharaol', 'hebat rasa paling benar kaca lupa sama nya orang dprri pesan baik damai bukan memprofokasi situasi bangsa agama', 'illiza sa aduddin djamal calon dpr ri aceh pijay pidie aceh aceh besar sabang jaya aceh barat simeulue abdya selatan singkil subulussalam tenggara gayo lues insyaallah beliau naik lalu partai ppp dprri aceh ppp indonesiapic twitter com', 'kualitas ktp hasil korupsi gin mendagri dprri ektp ktp indonesiaraya ruangpublik kpk citizenjournalismpic twitter com', 'habis pikir pak djarot sumut lebih tak erti wakil rakyat dapil sumut yg duduk dprri fraksi pdip aa suara kalian berani pulang benah kampung halaman pilkadasumut', 'rebut kursi kosong setya novanto dpr berita news indonesia dprri setyanovanto', 'rencana tambah kursi pimpin dpr matang nasional dprri jakarta', 'gelar bazar galang dana satu pensiun pegawai sekretariat jendral dprri gelar bazar murah galang dana', 'selamat bapak atas lantik ketua dprri moga senantiasa beri kuat rahmat allah swt jalan amanah dgn baik amiin', 'pantun ketua dpr ri bambang soesatyo beri pidato lantik januari ketuadpr dprri bambangsoesatyo bamsoet pantun pidatopelantikan indonesiamaju partaigolkar golkarpedia golkarsahabatrakyat golkarbersih golkarbangkitpic twitter com ejptaavxsz', 'kalau sisi alam kuasa masalah pak bambang soesatyo bilang sangat mumpuni pimpin dpr wakil ketua dpr fahri hamzah wakilketuadpr fahrihamzah kammi bambangsoesatyo bamsoet ketuadpr golkar mumpuni dprri golkarpediapic twitter com', 'ketua dpr hubung dpr kpk harmonis dprri ketuadprri bambangsoesatyo kpk jakarta', 'komisi ii mendagri rapat verifikasi parpol dprri', 'zulkifli hasan minta bambang benah kerja dpr mprri dpr mpr ketuampr dprri ketuadprri jakarta', 'dpdri politis senior pdip sabam sirait jadi anggota dpd ri nusabali berita pdip dprri poitisi sabamsirait', 'selamat atas lantik bapak bambang soesatyo ketua dpr ri periode moga mampu bawa dpr ri jadi lembaga lebih baik produktif pulih citra dpr ri jaga hubung lebih baik eksekutif dprri ketuadprbaru akuratcopic twitter com hhvoxlboyo', 'hari tanggal januari bambang soesatyo lantik ketia dpr ri menggantkan setya novanto politikbaik dprri pic twitter com', 'milik lhkpn fantastis jamaluddin pulang kampung news dprri', 'bismillah jum at berkah jalin tali silaturahmi erat ukhuwah islamiah silaturahmi majelis ta lim camat teluk naga kabupaten tangerang hartanto edhie wibowo sby ahy hew hartantoedhiewibowo anggota dpr dprri fpddprri partaidemokrat demokratpedulipic twitter com', 'dprri berani rancang uu miskin oknum korup yg rampokapbd', 'bagaimana kabar pansus angket kpk kata ketua dpr harianbernas koranbernasjogja beritabernas pansusangket kpk dprri pic twitter com ldzyabihnt', 'bangun kesejahtraan rakyat lebih utama kaya yg banyak bangun bagai selaras keseimbangn hrs perhati perintah bangun timpang megah gerindra dprri fadlizon', 'rapat sama bmkg badan sar nasional ingat indonesia letak wilayah cincin api pasifik perlu ada sinergi badan kait hartanto edhie wibowo hartantoedhiewibowo dpr dprri fpddprri rapat komisiv bmkg basarnas partaidemokratpic twitter com', 'sedih liat negara kembang ekonomi sangat lambat gedong gedong cakar langit makin marak pelosok miskin rajalela macet mana akibat agenda kerja yg kaji detail gerindra dprri fadlizon', 'dpr kau lengkap tengah presiden hilang dprri ketuadpr bamsoet golkarpic twitter com', 'soal wacana plt gubernur polri aktif ketua dpr ri minta perintah dengar masuk masyarakat harianbernas koranbernasjogja beritabernas polri dprri berita bernaspic twitter com', 'jaga kompak bamsoet gelar rapat pimpin fraksi dprri', 'polsek rungkut polrestabes surabaya aman kunjung anggota dpr ri polsekrungkut polrestabessurabaya poldajatim polri surabaya kamihumaspolri thebestpol dprri dpr', 'posisi perintah soal pidana hubung sama jenis nasional news dprri kuhp lgbt', 'at drama baru setya novanto matanajwa fahrihamzah dprri candidphoto', 'dprri berani rancang uu miskin oknum korup yg rampokapbd', 'dprri bap dpd ri mediasi konflik lahan lampung badan akuntabilitas publik dewan wakil daerah ri temu fb', 'bapak darmadi durianto jenguk langsung bakar darmadiduriantowakilku dprri pdiperjuanganpic twitter com', 'bp laku kunjung kerja kec sukorejo kab kendal jawa tengah dprri komisivi twitter com', 'dpr ri kecam israel cara hadap demonstran gaza mediagaruda berita internasional dprri', 'selamat paskah pak darmadi durianto wakilrakyatyang rakyat dprri pdiperjuangan jakut jakbar kep ribu', 'anggota dpr ri komisi vi darmadi durianto dorong tri koperasi ukm naik kelas jadi tri laksana bijak teknis darmadidurianto darmadiduriantowakilku dprri pdiperjuanganpic twitter com', 'menpora imam nahrawi hadir raker komisi dpr ri bahas kesiap laksana program kemenpora tahun rayapos berita beritaviral beritaterkini viral infoviral infoupdate olahraga menpora dprri', 'anggota dpr jaga hormat lidah dprri', 'selamat siang selamat juang dprri banjarnegara purbalingga kebumen nasdempartaikujokowipresidenku djasriofficial fraksipartainasdem singnasdemsingdjasripic twitter com', 'uu dpr antikritik kritik lhoo dprri', 'mohon maaf korbanphksepihakfreeport ken tahu bpk jabat penting dinegri rangkap ri fi korbanphksepihakfreeport jokowi lokataru fahiraidris hanifdakiri dpdri dprri dprdpapua asergobai', 'komisi viii minta kemenag evaluasi agen umrah nakal klikrmol dprri', 'dear bapak ibu dpr liat tuh berita rakyat punya tipi layar super lebar to rumah gedong jangan liatin duit rakyat mulu thanks savetki tki tenagakerjaindonesia dpr dprri pemerintahindonesia', 'dear bapak ibu dpr buat uu lindung tki majikan bukan uu lindung diri sendiri thanks dpr dprri indonesia savetki tki pemerintahindonesia', 'mbak usul bahas pertamax knp harga naik diam tak kabar perintah hehe harga minyak dunia sedang turun dprri', 'gito resmi jadi pimpin komisi vi ace hasan komisi viii dprri', 'dpr pasti ruu ebt sah milu jadi kabar baik dunia energi ruuebt minyakgasdanbumi dprri', 'kombes polisi nganggur anak buah sby nambah beban negara twitter polri demokrat dprri', 'dpr nilai kek mandalika jaga arif lokal mandalika dprri', 'beri imunisasi difteri tahap vit yg selenggara rumah bangsa indonesia kelola apt menara latumeten brst rt rw bekrjsm dgn puskesmas jambar baru imundifteri darmadidurianto dprri pdiperjuangan salammetalpic twitter com rrwidwdyoq', 'linda megawati warga hak hidup layak linda megawati anggota dpr ri fraksi demokrat dprri lindamegawati reses kunker dapil empatpilar mpr demokrat', 'kerja ngri sendiri sulit bgt kata cipta lapang kerja mana yg hrs pakai uang presidenri dprri pic twitter com', 'viva yoga minta perintah stabil harga garam rumah garam impor dprri vivayoga fraksipan', 'banyak konflik agraria pan dorong dpr bentuk pansus agraria pansusagraria fraksipan dprri tanah', 'dpr tambah kursi pimpin mpr jaga stabilitas politik mpr mprri dpr dprri fraksipan', 'sentuh segala lapis masyarakat warga tangerang hewbat hewbat hartantoedhiewibowo bersamarakyat dpr dprri fpddprri partaidemokrat banten demokratuntukrakyat kabartangerang infotangerang demokratpeduli demokratberisolusi demokratjayapic twitter com', 'bapak darmadi durianto jenguk langsung bakar darmadiduriantowakilku dprri pdiperjuanganpic twitter com', 'bp laku kunjung kerja kec sukorejo kab kendal jawa tengah dprri komisivi twitter com', 'amat politk bon hargens duga skenario main ketua dewan hormat pan amien rais balik kasus korupsi jerat wakil ketua dpr waketum pan taufik kurniawan', 'hukum indonesia jadi komoditas jual belikan untu orang modal', 'anggota dpr ri komisi vi darmadi durianto dorong tri koperasi ukm naik kelas jadi tri laksana bijak teknis darmadidurianto darmadiduriantowakilku dprri pdiperjuanganpic twitter com', 'darmadi durianto wakil wakilrakyat dprri jakbar jakut pic twitter com', 'menpora imam nahrawi hadir raker komisi dpr ri bahas kesiap laksana program kemenpora tahun rayapos berita beritaviral beritaterkini viral infoviral infoupdate olahraga menpora dprri', 'iya klu zaman dulu presiden anggota dewan semua jabat negara juang sejahtera semua rakyat indonesia klu skrg jabat juang utk partai diri sendiri', 'dpr oki satu lawan brutal donald trump dprri komisiiii jazilulfawaid', 'bambang soesatyo priscilla barometer didik indonesia dprri bambangsoesatyo priscilladaniegopahlawan', 'bambang soesatyo dukung bijak perintah atur tarif pajak situs belanja online milik asing usaha mikro kecil tengah umkm rayapos berita beritaviral beritaterkini infoviral infoupdate metropolitan nasional dprri', 'selamat hari kartini satu seluruh perempuan indonesia kartinidarmadidurianto darmadiduriantowakilku dprri pdiperjuanganpic twitter com', 'ayo kritik dpr puas menang baik dapat sepeda motor guna film dil dprri hutdprri dpr', 'pdip atur paja turun daya saing umkm darmadiduriantopeduli darmadiduriantowakilku dprri pdiperjuanganpic twitter com', 'anggota dpr ri darmadi durianto minta atur pajak jangan rat umkm darmadiduriantopeduli darmadiduriantowakilku dprri pdiperjuanganpic twitter com', 'kunjung sekaligus salur bantu kursi roda warga butuh bentuk peduli orang anggita dpr ri darmadi durianto rakyat kecil darmadiduriantopeduli darmadiduriantowakilku darmadidurianto dprri pdiperjuanganpic twitter com', 'slmt hari tahan sipil hansip aparatur hansip tlh bnyak mbrikn kontribusi bgi wrga kota maupn desa dg pgamann pjagaan lingkungn dg dmkian masyrkt mrsa aman nyman bravo hansip hansip linmas pamongpraja luchtbeschermingdients kemendagri htc dprri pic twitter com', 'selamat sukses atas lantik urus dpd dpc partai demokrat se provinsi banten demokrat banten sby ahy hew hartantoedhiewibowo bersamarakyat demokratberibukti dprri fpddprri demokratpic twitter com', 'dpr ingat perintah china rugi tenaga kerja indonesia investasi dprri bambangsoesatyo investasichina xiaoqian', 'komisi jembatan ambruk perintah pidana dprri komisiv jembatanbabat widang sigitsosiantomo', 'anggota dpr ri bakal sambang ponpes al furqon mekarsari cianjur apa cianjur dprri partaidemokrat politik pic twitter com lqpzblcenl', 'mk gelar sidang uji uu bumn konstitusi mahkamahkonstitusi bumn antam ptbukitasam dprri apbn jakarta', 'saia wakil kel besar ucap byk terimakasih karang bunga perhati yg ikan bpk selaku anggota dpr ri fraksi pdiperjuangan darmadidurianto dprri jakartautara jakartabarat kepulauanseribu wakilrakyat sahabatrakyatpic twitter com', 'ketua dpr cegah korupsi gera nasional non tunai dprri bambangsoesatyo ppatk gerakannontunai korupsi', 'komisi viii awas lemah muncul banyak travel umrah nakal dprri komisiviii endangmariaastuti biroumrah kementerianagama', 'meutya hafid dpr minta facebook serah janji pihak tiga dprri komisi meutyaviadahafid', 'ruu afas tuju lanjut fraksi pan beri catat hafiszthohir uang fraksipan dprri', 'revisi uu kawin perlu kaji dalam mediagaruda berita hukum dprri', 'komisi viii dpr minta ruang gerak sipatuh modifikasi mediagaruda berita nasional dprri', 'notulensi rapat dpr ri soal perangkat desa nasional polhukam dprri', 'dpr minta bnn pasti calon kepala daerah bebas narkoba bambangsoesatyo narkoba bnn dprri jakarta', 'anggar jumbo dpr baca beritapanas anggarandpr indonesia beritaindonesia beritaterkini indonesiaterkini rctiqq beritaviral indonesiamaju imporgaram dprri dewanperwakilanrakyat', 'rencana bangun gedung baru dpr anggar rp triliun hingga kini tuju perintah rayapos berita beritaviral beritaterkini infoupdate nasional metropolitan dprri', 'fikiran pendek dangkal nencarai sarang akal nafsu is luas dalam cari rumah hari bangzai bankzai dprri politicsnation indonesia', 'aiihh peduli rakyat kecil peduli usaha kecil tengah nyata kerja pimpin masa kini masa depan darmadiduriantowakilku dprri pdiperjuangan seminarusahapic twitter com', 'anggota dpr ri komisi vi fraksi pdi juang ucap selamat hari raya idul fitri syawal mal aidzin walfaidzin mohon maaf lahir bathin darmadidurianto dprri pdiperjuangan minalaidzinwalfaidzin rkigropetpic twitter com', 'kerja nyata fasilitas mudik gratis endang dprri siap bus mudikditwitter news dprri', 'selamat pagi bpk darmadidurianto selamat aktivitas tetap semangat bahagia warga rakyat milik wakilrakyat rakyat pedulirakyat darmadidurianto dprri pdiperjuangan darmadiduriantomelayani darmadiduriantowakilku jakbarjakutkepseribupic twitter com', 'darmadi pdip siap juang nasib warga rawa malang darmadidurianto dprri pdiperjuangan pic twitter com', 'bagai mana cara pasien rawat jalan tampa lama lama tunggu antri obat karna bagi aktif kerja jadi bpjs cari lus mentrikesehatan bpjs dprri cari solusi', 'waktu kerja uang pasien rawat jalan antar kerja jadi gak dgn waktu singkat pasien periksa dapat obat rs nya bpjskesehatan mentrikesehatan dprri pr saudara', 'anggota dpr ri darmadi durianto dprri darmadiduriantopic twitter com', 'gak yah bpjs layan pasien rawat jalan dgn waktu singkat layan periksa dapat obat bagi pasien aktif tempat kerja tidk banyak waktu ter buang mentrikesehatan bpjskesehatan dprri', 'peduli bpk darmadidurianto serap aspirasi masyarakat pekojan tambora jakarta barat antusias terima hadir wakil rakyat darmadidurianto dprri pdiperjuangan darmadiduriantomelayani darmadiduriantopeduli darmadiduriantook jakbarjakutkepseribupic twitter com', 'dorong transparasi bamsoet luncur aplikasi dpr now dprri aplikasidpr', 'wakil rakyat yg selalu siap terima aspirasi konstituen anggota komisi vi dpr ri fraksi pdi juang darmadi durianto terima aspirasi warga rawa malang cilincing jakarta utara ruang pdi juang dpr ri darmadidurianto dprri pdiperjuangan jakbarjakutkepseribupic twitter com', 'wakil rakyat yg selalu terima aspirasi konstituen anggota komisi vi dpr ri fraksi pdi juang terima aspirasi warga ruang fraksi pdi juang dpr ri senayan jakarta darmadidurianto dprri pdiperjuangan wakilrakyat sahabatrakyatpic twitter com', 'kait calon dirut pertamina darmadi durianto jabat dirut pertamina tidak mudah darmadidurianto dprri pdiperjuangan pic twitter com', 'darmadi durianto minta dirut pt garuda indonesia laku harmonisasi stakeholder darmadidurianto dprri pdiperjuangan pic twitter com smthjuxnkh', 'peduli bpk duriantodarmadi dgn warga bukti kerja nyata yg jarang lihat wakil rakyat umum kampanye beliau hadir perhati warga yg butuh darmadidurianto dprri darmadiduriantopeduli darmadiduriantomelayani sahabatrakyatpic twitter com', 'pdip nasdem golkar punya rawan jokowi khawatir darmadidurianto dprri pdiperjuangan twitter com', 'darmadi lihat apa laku cak imin lepas penting pilih legislatif pileg suara dapat pkb masuk tiga besar darmadidurianto dprri pdiperjuangan twitter com', 'kamu hina presiden lebih baik kamu minta anggota buat ruu hukum mati sangka koruptor kamu kok gak cerdas klu indonesia banyak hutang semua mahal krn indonesia sarang koruptor dpr dprlive prabowosandi jokowiterimadubes', 'dpr cari cara panggil menteri rini jelas rekam obrol dirut pln darmadidurianto dprri pdiperjuangan twitter com', 'anggota komisi vi dpr ri darmadi durianto aku pilih sosok tepat jadi direktur utama pertamina memang sulit darmadidurianto dprri pdiperjuangan twitter com', 'pdip cuma upaya pks naik elektabilitas darmadidurianto dprri pdiperjuangan twitter com', 'elite pdip cak imin cuma gocek gocek buat bargaining pkb darmadidurianto dprri pdiperjuangan twitter com', 'pdip optimistis raup suara pileg darmadidurianto dprri pdiperjuangan twitter com mkpdzjkgdx', 'dpr kritisi kerja ojk kena awas industri jasa uang khusus industri asuransi industri fintech', 'darmadi jokowi butuh cawapres indonesia timur darmadidurianto dprri pdiperjuangan twitter com tbyvytwivr', 'ini sosok anggota dpr ri komisi vi bapak darmadi durianto yg biasa baur dgn masyarakat kalang bawah wakil rakyat yg peduli sahabat darmadidurianto darmadiduriantopeduli dprri pdiperjuanganpic twitter com', 'anggota komisi vi dpr ri darmadi durianto kata pihak beri tanggap sikap kait klarifikasi menteri rini darmadidurianto darmadiduriantopeduli dprri pdiperjuangan', 'bismillah hirrahmanirrahim buat baik semangat abdi kamifirmandez dprri aceh bireun acehutara lhokseumawe benermeriah acehtengah acehtimur kotalangsa acehtamiang', 'semangat pak darmadi durianto turun bawah interaksi dgn warga sangat patut apresiasi selalu sehat pak sama kerja lain darmadidurianto darmadiduriantopeduli sahabatdarmadidurianto sahabatrakyat rkiddgropet dprri pic twitter com nfzmehwzxb', 'orang wakil rakyat yg patut bangga peduli batas sederhana yg patut jdi contoh rakyat nya darmadidurianto darmadiduriantopeduli darmadiduriantomelayani dprri pdiperjuangan', 'antusiasme warga foto kagum sikap peduli pak yg sempat waktu sela sibuk anggota dewan darmadidurianto darmadiduriantopeduli sahabatdarmadidurianto dprri pdiperjuanganpic twitter com gkvnltoznm', 'kata lelah dlm lontar peduli warga miskin pak darmadi durianto dpr ri komisi vi pdi juang sama teamnya datang warga yg butuh kursi roda darmadidurianto darmadiduriantopeduli dprri pdiperjuanganpic twitter com', 'selamat pagi bpk darmadidurianto selamat aktivitas tetap semangat bahagia warga rakyat milik wakilrakyat rakyat pedulirakyat darmadidurianto dprri pdiperjuangan darmadiduriantomelayani darmadiduriantowakilku jakbarjakutkepseribupic twitter com', 'darmadi pdip siap juang nasib warga rawa malang darmadidurianto dprri pdiperjuangan pic twitter com', 'peduli bpk darmadidurianto serap aspirasi masyarakat pekojan tambora jakarta barat antusias terima hadir wakil rakyat darmadidurianto dprri pdiperjuangan darmadiduriantomelayani darmadiduriantopeduli darmadiduriantook jakbarjakutkepseribupic twitter com', 'wakil rakyat yg selalu siap terima aspirasi konstituen anggota komisi vi dpr ri fraksi pdi juang darmadi durianto terima aspirasi warga rawa malang cilincing jakarta utara ruang pdi juang dpr ri darmadidurianto dprri pdiperjuangan jakbarjakutkepseribupic twitter com', 'paling ideal tulis surat manggil beberapa pihak sama burt minta damping mungkin pak utut wakil ketua dpr utut adianto', 'peduli bpk duriantodarmadi dgn warga bukti kerja nyata yg jarang lihat wakil rakyat umum kampanye beliau hadir perhati warga yg butuh darmadidurianto dprri darmadiduriantopeduli darmadiduriantomelayani sahabatrakyatpic twitter com', 'revisi uu terorisme akhir sah berita nusabali ruuterorisme revisiuu dprri', 'pak sama dprri kom vi laku kunker spesifik pasar tradisional rau serang banten darmadidurianto twitter com', 'tni tnipolriasiangamesxviii pesan gatot nurmantyo dengar moga indonesia aman damai terorisjancok dprri dpr mpr', 'akhir uu anti teroriame sah jumat uuantiteroris dprri keprinews', 'selalu kerja penting rakyat semangat selalu pak sehat selalu aminnn darmadidurianto dprri pdiperjuanganpic twitter com', 'anggota dpr ri fraksi pdi juang darmadi durianto sama team komisi vi dpr ri sambang pasar rau kota serang banten langsung harga butuh pokok jelang lebaran kunkerkomisivi darmadidurianto dprri pdiperjuangan wakilrakyat sahabatrakyatpic twitter com', 'pak darmadidurianto sama komisi vi dprri kunker spesifik pasar tradisional rau serang banten jawabarat ecek harga butuh bahan pokok darmadiduriantopeduli darmadiduriantowakilku dprri pdiperjuangan rkiddgropet twitter com fmgamyhmlf', 'akhir uu antiterorisme sah dprri', 'tinjau harga butuh pokok pasartradisional serang banten jawabarat bpk selaku dprri pdiperjuangan darmadidurianto darmadidurianto wakilrakyat sahabatrakyat bekerjauntukrakyat melayanidenganhati jakartautara jakartabaratpic twitter com', 'utankayuselatan walikota jakarta timur buka puasa sama warga utan kayu selatan mesjid at taubah mprri dprri dpdri kpk', 'seminar ekonomi tajuk strategi tembus pasar global lantik urus rumah bangsa indonesia sun internasional palace restaurant season city jakarta barat selasa darmadidurianto dprri pic twitter com', 'puisi by kien kien judul pagi satu udara sejuk pagi hari bangun pagi tanam padi kompak jangan iri satu bangun dukung pak darmadi darmadidurianto dprri wakilrakyat sahabatrakyat indonesiajaya indonesiabersatu darmadiduriantopedulipic twitter com', 'hari sidang sama mitra kerja dpr komisi iv kesiap bulog hadap ramadhan lebaran tahun stok pangan sedia mudah dapat masyarakat dprri pdiperjuangan pdiperjuangansulsel ridwanandiwittiripic twitter com', 'buk ber selamat aktivitas terus juang rakyat jual ban truk bus darmadidurianto dprri pdiperjuangan penuhberkah penuhkasih darmadiduriantopeduli darmadiduriantoberjuangteruspic twitter com', 'bentuk apresiasi dpr ri komisi vi fraksi pdi juang bpk darmadi durianto menteri dagang ri drs enggartiasto lukita dprri pdiperjuangan kerjanyatapic twitter com', 'selalu kerja penting rakyat semangat selalu pak sehat selalu aminnn darmadidurianto dprri pdiperjuanganpic twitter com', 'anggota dpr ri fraksi pdi juang darmadi durianto sama team komisi vi dpr ri sambang pasar rau kota serang banten langsung harga butuh pokok jelang lebaran kunkerkomisivi darmadidurianto dprri pdiperjuangan wakilrakyat sahabatrakyatpic twitter com', 'fahri soal uu hina tugas lembaga bukan kritik fahrihamzah dprri politik beritaterkinipic twitter com', 'genting sah uu megapolitan nasional news parlemen polhukam tokoh dprri', 'besok fahri hamzah makassar agenda perintah dprri fahrihamzah kemakassar', 'pojoksatu jokowi tak mau teken uu dpr tetap terap nasional dprri', 'kak lihat pasang fungsi titik wifi salah satu sekolah deli serdang bantu proses ajar ajar sekolah sebut meutyahafid perempuaninspirasi tokohsumut tokohperempuan tokohnasional inspirasi dprri pic twitter com', 'konyol anggota dpr dprri selamat diri bilang media udah lapor polisi proses eh pakde lu punya hak manggil polisi napa dipakek panggil tuh kapolri kritik sehat pic twitter com', 'jd objek politik salah ms lalu yg terus ulang kemenpanrb kemdikbud pgri dprri komisix lupa lalai lawan lupa', 'terima kunjung hormat ketua senat kazakstan davelaksono dprri golkar jakarta', 'ceria rapimnas partai demokrat penuh sama demokrat sby ahy hew hartantoedhiewibowo dpr dprri fpddprri rapimnas partaidemokrat banten demokratuntukrakyat kabartangerang infotangerang demokratpeduli demokratberisolusi demokratjayapic twitter com', 'dpr minta tni periksa kelai alutsista lewat dprri fraksipan', 'live beritasatu lunchtalk regarding ruu siar davelaksono dprri ampi', 'kompak sama ketua dpr ri sama anggota komisi iii dprri senayan', 'viva yoga muladi dpr baik segera laksana uji layak patut calon komisioner kppu kppu usaha dprri fraksipan', 'plat nomor ganda mobil jabat mprri dprri dpdri ganjil genap twitter', 'bagaimana plat nomor ganda mpr ri dpr ri mprri dprri dpdri ganjil genap', 'perintah minta aju ruu lindung data pribadi dprri', 'edisi latih tembak ketua dpr ri sama anggota komisi iii dprri senayan tembak', 'dpr angkat bicara kait tuduh media malaysia polri dprri angkatbicara kait tuduh media malaysia polri', 'perempuan bukan apa ungkap perempuan lebih apa rasa international women day internationalwomensday hew anggota dpr dprri fpddprri partaidemokrat demokratpeduli demokratberisolusi demokratmenangpic twitter com', 'ketua minta selesai masalah ptfreportindonesia stopketidakadilan pelanggaranham dprri masalah ketenagakerjaan papua papuabarat papuabicara grasberg phksepihakribuanpekerja papuacerdas westpapua', 'ketua dpr minta freeport indonesia segera selesai masalah ptfreportindonesia stopketidakadilan pelanggaranham dprri masalah ketenagakerjaan', 'lindung umkm cengkeram usaha besar darmadidurianto dpr dprri pdip pdiperjuangan', 'dpr informasi peluang kerja luar negeri gencar dprri', 'anna latuconsina dengar keluh ingin rt se lurah waihaong dpdri dprri', 'cangkir kopi khas indonesia serta aktivitas siang kemarin dprri indonesia', 'komisi xi dpr ri bi motivasi mahasiswa berwirausaha beritabali nusabali dprri komisixi wirausaha seminar pic twitter com', 'blokir kartu sim hanafi jangan warga negara jadi korban kali blokirsim provider fraksipan dprri pic twitter com', 'selamat akhir pekan semangat beraktifitas sby ahy hew anggota dpr dprri fpddprri partaidemokrat demokratpeduli demokratberisolusi demokratmenang infotangerang suarademokratsuararakyat bersamarakyat komisiv infotangerangpic twitter com', 'tak semua ujar benci suara kritik dprri', 'komisi kaget terima lapor kurang guru sulut rayapos berita beritaviral beritanasional beritaregional komisix dprri guru manado sulawesiutara sulut', 'anggota fraksi bp laku kunjung kerja gelar pasar murah kec banyumanik kota semarang turut hadir bpk walikota kunker dprri komisivi pdiperjuangan juliaribatubara enomlanmumpunipic twitter com', 'pan minta ppp ungkap dalang fenomena orang gila indopos co id oranggila mulfachri fraksipan dprri', 'dpr minta ketua bnn baru gandeng tni fadlizon bnn dprri jakarta', 'kppu vakum icla minta dpr gerak cepat kliklegalnews dpr beritaviral dprri kppu', 'indira chunda thita kunjung tiga camat kabupaten gowa thita gowa reses dprri', 'diri minta anggota pantau harga beras anggota dpr ri minta pantau harga beras kalau harga tinggi mungkin stok beras rendah mudah mudah stok pasar ujar awp dprri pdiperjuangan', 'harga beras sempat lambung laku anggota dpr ri agustina wilujeng sragen dprri pdiperjuanganpic twitter com', 'jabar juara rindu menang ppp puluh dprri jabariv jabarjuara pppbergerak rindumenang', 'sartono hutomo serap aspirasi masyarakat ngawi upaya segera realisasi dprri resesdpr sartonohutomo', 'komisi dpr ri pemprov kalbar optimalisasi letak yg strategis tsb sbg salah satu dorong utama tingkat investasi dagang kalbar kunker komisivi dprri pic twitter com', 'terima kunjung hormat ketua senat kazakstan davelaksono dprri golkar jakarta', 'ceria rapimnas partai demokrat penuh sama demokrat sby ahy hew hartantoedhiewibowo dpr dprri fpddprri rapimnas partaidemokrat banten demokratuntukrakyat kabartangerang infotangerang demokratpeduli demokratberisolusi demokratjayapic twitter com', 'kompak sama ketua dpr ri sama anggota komisi iii dprri senayan', 'viva yoga muladi dpr baik segera laksana uji layak patut calon komisioner kppu kppu usaha dprri fraksipan', 'ketua dpr minta freeport indonesia segera selesai masalah ptfreportindonesia stopketidakadilan pelanggaranham dprri masalah ketenagakerjaan', 'golkar usung sudikerta senayan golkar nusabali berita sudikerta calegbali dprri', 'andai aku jadi anggota dprri hormat hidup senang uang pajak rakyat ku buat beli kuota biar twitter an nyinyirin netizen tak paham dengan nyinyirin perintah wajib', 'pendaftara verifikasi calon anggota dprd kota provinsi dpr ri milu kpukotabanjar kpujabar kpu kpuri bacaleg dprdkotabanjar dprdprovinsijabar dprri jawabarat priangantimur banjar bandung tabloidruberpic twitter com', 'doa dukung rachel maryam mantan artis kini brrhijab jd anggota dpr ri partai gerindra ayo dukung andrerosiade partaigerindra dapil sumbar satu utk jadi anggota dprri', 'pertama gelar endang dprri buka juara sepak bola lpu dprri news klaten', 'lapor curang kotak kosong yg laku ppk utk menang paslon no bawaslu kpuri mahfudmd jokowisekalilagi dprri polri reflyharun pilwalimakassarpic twitter com', 'ahmad zacky siradj kunjung umkm produk rajut garut dprri dpr reses kunker cigedug garut umkm perajinrajut news ruber', 'silaturahim alumni pesantren marwan dasopang wakil ketua komisi dpr ri fraksi pkb dapil sumut ii cakimin pkb dprri fraksipkb kemenag kemensos bnpb', 'demokrat andal tiga ujung tombak kursi dpr ri dapil bal demokrat dprri calegbali nusabali berita', 'anggota dpr ri komisi vi fraksi pdi juang bpk darmadidurianto mengucapakan turut duka cita atas tinggal bpk tan kiem hoa papa cinta pdt samuel tan rip darmadidurianto dprri pdiperjuangan wakilrakyat sahabatrakyat jakbarjakutkepseribupic twitter com', 'teduh tentram damai jalin silaturahmi kokoh antara putra baik bangsa partaidemokrat sartonodulurdhewe dprri pacitan ponorogo trenggalek', 'loyalitas partai akhir loyalitas negara mula negarawansejati presidensialtreshold kpuri dprri mprri gerakanperubahan', 'hari adil internasional international justice day hari sejarah ingat tahun tanggal juli sejak tahun taufiqgunawansyah caleg dprri sumedang majalengka subangpic twitter com', 'rapat kerja banggar dpr ri menteri uang gubernur bi bahas ruu pertanggungjawaban atas laksana apbn ta raker banggar dprri untukrakyat demokratpedulidanberisolusi hew hartantoedhiewibowo partaidemokrat bersamarakyatpic twitter com', 'anggota dpr ri darmadi durianto komisi vi fraksi pdi juang metal mega total metal merah total metal menang total no nang malaysia tgl juli dprri darmadiduriantopic twitter com dbpcojjdmq', 'pesan sahabat dprdkabupaten dprdprovinsi dprri dpdri cari kerja lebih baik mundur sengsara banyak kerja lebih berkah', 'latih tata rias cantik anggota dpr ri darmadi durianto komisi vi fraksi pdi juang dprri darmadiduriantopic twitter com', 'selamat juang seluruh kader pdi juang bal menang aspirasi rakyat menang salamsatujalur gungtri dprri', 'nasdem siap rebut kursi ketua dprd sumedang ii bursa pileg ruberchannel subscribe like share thanks ruber ruberchannel nasdem dprd dprri', 'selamat hari parlemen indonesia moga parlemen jadi lebih baik tani perintah bawa indonesia jadi lebih sejahtera', 'teduh tentram damai jalin silaturahmi kokoh antara putra baik bangsa partaidemokrat sartonodulurdhewe dprri pacitan ponorogo', 'rapat kerja banggar dpr ri menteri uang gubernur bi bahas ruu pertanggungjawaban atas laksana apbn ta raker banggar dprri untukrakyat demokratpedulidanberisolusi hew hartantoedhiewibowo partaidemokrat bersamarakyatpic twitter com', 'kelas aleg dpr ri mosok situs pribadi domain gratis blogspot anggar juta tahun udah dapet domain hosting les rt aroemalzier fraksipartaigolkar dprri nahdliyin perempuanlampung bebbaylampung', 'latih tata rias latih jadi peluang usaha dprri darmadiduriantoterbuktihebat darmadiduriantopeduli darmadiduriantomelayani', 'hak usaha hgu cianjur syarat konflik penting advokasi bimantara bogor calonlegislatif denimuhamadnurjaya dprri had hakgunausaha hgu jaringansolidaritassenyap jawabarat jonggol kabupatencianjur kadupandak pic twitter com', 'bukti bukan janji hati masyarakat peduli siapa pdiperjuangan dprri rkiddcengkareng', 'silaturahmi warga desa leles camat sagalaherang dadanyudaswara lindamegawati dprri tehlinda subang desa leles sagalaherang jawa barat indonesia', 'sutarmidji anggar dana kapuas raya tahun gubernurkalbar dprdprovinsikalbar gubernursutarmidji pembangunandaerah lawi netizenmedia partainasdem kalimantanbarat legislator dprri indonesia', 'suci hati sih jiwa satu pandang indonesia lbh baik selamat tahun baru islam muharam hijrah darmadidurianto dprri pdiperjuangan wakilrakyatsahabatrakyat darmadiduriantopeduli pic twitter com twitter com', 'senja sore rumah wakil rakyat kunjung dprri', 'siap siap utk acara sosialisasi pilar bangsa sama adik adik mahasiswa universitas hindu indonesia moga kukuh semangat bangsa astungkara dprri mprri dapilbali', 'pagi banget giat pasar mantau layak makan jaja pasar sahabatwulan dprri', 'gowes santai sama masyarakat desa sukorejo camat gondanglegi rangka ingat hut ri hut pan gowes totokdaryanto dprri malangraya satujiwabersamarakyatpic twitter com', 'moga jadi sambung lidah rakyat dprri pilihat umat', 'pak duduk dekat pak marzuki tukang parkir lhokseumawe yg hari sampai keluh kesah bagaimana sulit ekonomi indonesia mestiganti dprri pic twitter com', 'guyub sama warga rawat silaturahmi jaga sama selaras bingkai kebhinnekaan indonesia indonesiakeren dprri masinton tegasmerakyat', 'coba perintah jokowi dprri perhati korban phk pt fi', 'silaturahmi warga desa leles camat sagalaherang dadanyudaswara lindamegawati dprri tehlinda subang desa leles sagalaherang jawa barat indonesia', 'sutarmidji anggar dana kapuas raya tahun gubernurkalbar dprdprovinsikalbar gubernursutarmidji pembangunandaerah lawi netizenmedia partainasdem kalimantanbarat legislator dprri indonesia', 'ingat peristiwa pki buah khianat besar alami bangsa indonesia gera september pki pki janganlupakansejarah pki sejarah alfatinova caleg dprri dpr ri partaiperindo perindo sumut sumaterautarapic twitter com wjxlamrtie', 'terimakasih atas support percaya lama mohon dukung durianto no darmadidurianto darmadidurianto dprri pdiperjuangan darmadiduriantoterbuktihebat wakilrakyat sahabatrakyat melayanidenganhatipic twitter com', 'buka mata buka hati lah wakil rakyat yg bukti oknum rawan kau beli hati rakyat tetap satu hati sama bpk darmadi durianto yg bukti uji peduli darmadidurianto dprri pdiperjuangan wakilrakyat sahabatrakyat jakbarjakutkepseribupic twitter com', 'warta griya mas desak implementasi sistem tanggap bencana nasional lengkap dapiljatimvii dprri ibas griyaeby prayfordonggala prayforpalu partaidemokrat batikpring ebyfamily sedulurjatim demokratpic twitter com', 'team fogging rki rumah bangsa indonesia dd cengkareng laku berantas nyamuk dbd pdiperjuangan dprri komisivi darmadidurianto', 'dpr minta instansi perintah sinergi tangan gempa sulawesi tengah bantu minta segera salur lokasi dampak hasanahnews nasional dprri gempa tsunami', 'manggung anak muda tahu apa nusantara dprri with cek livestream now facebook', 'moga keluarga yg pulang tabah turut belasungkawa dukakita doatukpalu doatukdonggala doakansulteng dapiljatimvii dprri ibas griyaeby partaidemokrat batikpring ebyfamilypic twitter com xdkvqembvx', 'bal usul prolegnas dpr ri dprri berita nusabali pemprovbali koster gubernurbali', 'baru ba buka acara om ba kase materi matilala aba gtokominfofest elninocenter kominfo dprri pic twitter com', 'generasi milenial era milenial gtokominfofest kominfo elninocenter anamuda dprri gorontalopic twitter com', 'keluarga besar rki darmadi durianto turut duka cita atas gempa yg timpa palu donggala sulawesi tengah darmadidurianto prayfordonggala prayforpalu prayforsulteng darmadiduriantopeduli rkiddgropet dprri pdiperjuanganpic twitter com', 'tim darmadi durianto ucap duka dalam atas jadi sebut sama sama hening cipta saudara saudara yg donggala sulawesi tengah prayforpalu prayfordonggala darmadidurianto dprri pdiperjuangan wakilrakyat sahabatrakyatpic twitter com mcigggulzl', 'mas iptek awas manfaat tenaga nuklir bapeten sama syaikhul islam wakil ketua komisi vii dpr ri sidoajo mas keselamatanradiasi dprri sidoarjo jawatimurpic twitter com', 'sy prcy wrg negara yg aju diri utk pilih sbg wakil rakyat hrs jelas program kerja mrk publik dgn sgl rendah hati kenal sy lbh dekat dprri depokbekasi', 'ruu perintah provinsi hingga imbang uang usul lama moga tak balas janji wayankoster gubernurbali kanalbali dprri', 'anggota komisi vi dpr ri fraksi pdi juang bpk darmadi durianto layat alm bpk supardi rumah duka sunter jaya minggu malam tak kenal lelah turutberdukacita darmadidurianto dprri pdiperjuangan wakilrakyat sahabatrakyat jakbarjakutkepseribu satuuntuksemuapic twitter com', 'warta griya mas desak implementasi sistem tanggap bencana nasional lengkap dapiljatimvii dprri ibas griyaeby prayfordonggala prayforpalu partaidemokrat batikpring ebyfamily sedulurjatim demokratpic twitter com', 'tanggal agustus kunjung ekuador delegasi dpr ri sama duta besar ri laku temu national court of justice ecuador kbriquito', 'hati jangan jadi korban maupun laku ayo dukung ruu sama agung putri senator arya wedakarna ruupengahpusankekerasanseksual tolakkekerasan lbhapik dprri', 'dirgahayu partai amanat nasional tetap istiqomah emban amanah terus juang rakyat bela rakyat bela umat hutpan partaiamanatnasional totokdaryanto dprri malangraya satujiwabersamarakyatpic twitter com imyzpeiify', 'camat sindang perlu infrastruktur tunjang pariwisata linda megawati anggota dpr ri fraksi demokrat reses majalengka dprri pariwisata via', 'badan legislasi dpr rdpu asosiasi daerah hasil migas kait harmonisasi ruu migas kamis januari balegdpr pic twitter com', 'yakin perintah paham dg kondisi lain yg ingin hak layak pegawai balegdpr komitmen unt awal', 'alhamdulillah sepakat dg balegdpr bahas ruu asn utama pasal ttg angkat honorer jadi pns', 'baleg dpr rapat pleno usul rangka ambil putus atas hasil harmonisasi ruu masyarakat hukum adat selasa januari balegdpr pic twitter com', 'baleg dpr bantah fraksi dukung lgbt lgbt balegdpr aksi dpr nnc nnccerminbangsa cerminbangsa nncsitustrilingual situsberitatrilingual situstrilingual nncsitusberitatrilingual situsberitatigabahasa tekstovoice', 'baleg dpr partai serang balik ketua mpr soal pro lgbt balegdpr ketuampr lgbt pan partaipolitik zulkiflihasan via', 'baleg dpr rapat harmonisasi ruu sistem budidaya tani lanjut usul ruu selasa januari balegdpr pic twitter com xiqseqdzou', 'amat ruu siar paksa balegdpr ruupenyiaran erasmussihombing', 'khawatir rugi tv swasta baleg dpr minta kesah ruu siar tunda ruupenyiaran balegdpr', 'badan legislasi dpr rapat harmonisasi ruu sumber daya air rabu maret balegdpr pic twitter com', 'dpr sekarang makan gaji buta sekarang rakyat kerja dpr sibuk rebut jabat sibuk salah perintah yg sah pecah belah umat jijik sama dpr sekarang gaji sama rakyat kerja nyinyir tok bubarkanpks bubarkandpr pilkadabermartabat', 'bukan yg anggap anggota dewan yg kata wakil rakyat rakyat mana bubarkandpr', 'dpr gak bikin tol kagak ngasih subsidi bbm kagak ngasih tunjang miskin bubarkandpr', 'buat apa punya wakil kalau suara aspirasi rakyat bubar suara benar tolak segala nilai tentang budaya agama indonesia bubarkandpr pic twitter com', 'duit yg ngatur anggota dpr neh bubarkandpr', 'makin terus dpr sumber maksiat macam korupsi bubarkandpr', 'sikat habis koruptor dkknya gema miskinkankoruptor bubarkandpr kalo blm selesai uu antikorupsi yg miskin koruptor', 'aneh nich dpr mpr kok buat undang undang tuju lindung korupsi', 'goblog lu orang kaya gin jadi wakil rakyat bubarkandpr', 'lebih tangkap orang kaked drpd mrka yg mnybutnya mahasiswa bubarkandpr', 'sila gugat mk selalu salah org tp kok gak dr muhammadiyah demo dpr gugat dong bubarkandpr jgn cm cr media salah jokowi aja tindak mu mana mau yg enak aja', 'situs resmi adil negri negara ri hack olh phak yg mngaku sbg anonymous indonesia stus tdk bs akses apbila buka hny gmbr dgn tlisan yg mminta dpr utk dibbarkn respect buat anonymous elegant keras bubarkandpr anonymoushackedpnpic twitter com zyldpdfrvy', 'anak anak paham si gk layak jd wakil rakyat cm makan gaji buta modal cuap cuap buat onar kosong tong pecatfadlizon bubarkandpr pic twitter com', 'yg kata wakil rakyat jangan jadi pahlawan siang yg jadi rakyat lebih peduli sama zohri jangan manfatkan zohri buat cari panggung bubarkandpr', 'guna dpr utk ngabisin anggar', 'gila rakyat tipu wakil bubarkandpr', 'si zonky fuckry tamu imf world bank meeting cukup kasih snack anggar buat dpr mesti tambah kampretdurhaka bubarkandpr gerombolanprabohongpic twitter com', 'jalan mulu kerja nol hasil minus cuma plesiran abisin uang rakyat bubarkandpr', 'sepakat mas sngat sayang oposisi depan ambisi utk kuasa bahkan partai yg bawa bendera agama anggap ini yg sebut demokrasi', 'apa konstitusi pasal jk hasil tdk pakai utk kekakmuran rakyat rakyat yg gusur miskin telantar bodoh heran dpr sbg wakil rakyat cangkeme mingkem tak guna bubarkandpr', 'jangan pilih tenggelam partai korupsi sapi gerinbar gera indonesia bubar bubarkandpr minahasa kawanua mangun iyayatusanti', 'tuju bubarkandpr kalau anggar negara kacau', 'wah nyata benar butuh sarjana tara dg yg mulia bubarkandpr rakyattidakbutuhdpr', 'maling teriak maling sembunyi balik dinding kecut lari kencing kencing savekpk bubarkandpr koalisiprabohong twitter com xcnmjzmtbb', 'pimpin dpr nya begini anggota dri tau bhwa kualitas uu yg hasil grade nya bubarkandpr', 'hormat bapak presiden tanda tangan coret yg revisi dpr dpr tau diri kalo punya kebal hukum makin enak korupsi kontrol masyarakat bubarkandpr', 'dpr kencoot benar ucap almaghfulah gus dur dpr kaya tk lebih anak tk ingat er hari akhirat stlah hari dunia', 'rakyat punya duduk suara politik lebih tinggi wakil rakyat nama nya wakil kalau kritik pidana lebih baik rakyat satu lalu bubarkandpr pic twitter com', 'ndk perlu pilih wakil rakyat abai suara rakyat bubarkandpr', 'bikin negara cinta makin puruk bubarkandpr', 'kalau buang dua jangan bak sampah langsung tenggelam dalam truk sampah nya sekali tempat buang akhir sampah bantar gebang dua layak wakil rakyat rakyatmenggugat bubarkandpr', 'bubarkandpr rakyat muak dpr khianat rakyat bunuh demokrasi kriminalisasi', 'cagubnyinyir gak salah memang bubarkandpr dprd dpr dpd tlh disalahgunakan umbar nafsu bkn lg peran sbg awas justru kontribusi utk jadi seleweng mubajir anggar habis utk gaji jahat', 'bos kritik bawah malah bos nya yg penjara cuma indonesia bubarkandpr', 'anggota ngomong doang comberan bubarkandpr', 'masyrakat hidup dpr masyarakat hidup kalau presiden jokowi bubarkandpr abrakadazonk', 'indonesia dpr bubarkandpr', 'rakyat makin benci wakil dpr makin guna tebar benci kpd perintah yg sah wakil rakyat sebut bukti buat gaduh habis uang negara masuk uang pajak yg bayar kas negara bubarkandpr', 'yg paling sangat penting petisi bubarkanpks bubarkandpr', 'bukti dpr lama jadi bagi biang korupsi beban uang negara dpr hapus fungsi cukup wakil dpd dpr ri tak bubar bubarkandpr', 'bubarkandpr gak guna dpr sekarang makan uang rakyat kerjannya nol besar', 'rancang undang undang terorisme ruut selesai bulan mei jawab cuma satu perpu anti terorisme jgn lupa bubarkandpr bubarkandpr', 'ham hak asasi manusia apa teroris laku jelas sekali bukan manusia baik hati bego jangan perppusolusinya perppuantiterorisme diasibukkerja terorisbukanmanusia bubarkandpr kamimuak', 'perintah dpr tuju anggar dana lurah besar triliun program danakelurahan bukan inisiatif perintah aspirasi walikota se indonesia gabung asosiasi perintah kota seluruh indonesia apeksi']\n"
     ]
    },
    {
     "name": "stdout",
     "output_type": "stream",
     "text": [
      "600\n"
     ]
    }
   ],
   "source": [
    "#raw_data to list\n",
    "Dataset = dokumen[['PREPROCESSING', 'label']].values.tolist()\n",
    "\n",
    "#pisahkan text dan labelnya\n",
    "Texts = [col[0] for col in Dataset]\n",
    "Labels = [col[1] for col in Dataset]\n",
    "Label_testing_cv=[]\n",
    "for data in Labels:\n",
    "    Label_testing_cv.append(data)\n",
    "\n",
    "Label_testing_umum=[] \n",
    "#Label_testing_cv=Labels\n",
    "#dokumen testing 100\n",
    "dok2= pd.read_csv('data-testing-DPR.csv',encoding='unicode_escape' )\n",
    "for i,row in dok2.iterrows():\n",
    "    result2 = preprocessing.preprocessing(row.tweet, stemming=True)\n",
    "    Texts.append(result2)\n",
    "    Label_testing_umum.append(row.label)\n",
    "    Label_testing_cv.append(row.label)\n",
    "#print(Texts)\n",
    "print(len(Texts))"
   ]
  },
  {
   "cell_type": "markdown",
   "metadata": {},
   "source": [
    "# Pembobotan TF-IDF"
   ]
  },
  {
   "cell_type": "code",
   "execution_count": 7,
   "metadata": {},
   "outputs": [
    {
     "name": "stdout",
     "output_type": "stream",
     "text": [
      "(600, 1070)\n"
     ]
    }
   ],
   "source": [
    "\n",
    "\n",
    "from sklearn.feature_extraction.text import TfidfVectorizer\n",
    "\n",
    "tfidf_vectorizer = TfidfVectorizer(max_df=0.95, min_df=2)\n",
    "tfidf = tfidf_vectorizer.fit_transform(Texts)\n",
    "                                       \n",
    "matrix_tfidf = tfidf.toarray()                           \n",
    "total = len(Texts)-100\n",
    "X_train = matrix_tfidf[0:total,]\n",
    "X_test = matrix_tfidf[total:total+100,]\n",
    "label = Labels\n",
    "                                       \n",
    "print(tfidf.shape)\n",
    "\n",
    "# from sklearn.feature_extraction.text import TfidfVectorizer, CountVectorizer\n",
    "\n",
    "# binary_vectorizer = CountVectorizer(binary = True)\n",
    "# binary = binary_vectorizer.fit_transform(Texts)\n",
    "\n",
    "# print(\"jumlah kolom fitur (jumlah term unik) = \",len(binary_vectorizer.get_feature_names()))\n",
    "# print(binary_vectorizer.get_feature_names())\n",
    "\n",
    "# matrix = binary.toarray()\n",
    "# print(binary)\n"
   ]
  },
  {
   "cell_type": "code",
   "execution_count": 7,
   "metadata": {},
   "outputs": [],
   "source": [
    "# from sklearn.model_selection import train_test_split\n",
    "# X_train, X_test, Y_train, Y_test = train_test_split(tfidf, Labels, test_size=.3)\n",
    "\n",
    "# print(X_train.shape)\n",
    "# print(len(Y_train))"
   ]
  },
  {
   "cell_type": "markdown",
   "metadata": {},
   "source": [
    "# Klasifikasi Naive Bayes"
   ]
  },
  {
   "cell_type": "code",
   "execution_count": 27,
   "metadata": {},
   "outputs": [
    {
     "name": "stdout",
     "output_type": "stream",
     "text": [
      "MultinomialNB(alpha=1.0, class_prior=None, fit_prior=True)\n"
     ]
    }
   ],
   "source": [
    "from sklearn.naive_bayes import MultinomialNB\n",
    "mnb = MultinomialNB()\n",
    "model = mnb.fit(X_train, label)\n",
    "print(model)"
   ]
  },
  {
   "cell_type": "markdown",
   "metadata": {},
   "source": [
    "# Prediksi Naive Bayes"
   ]
  },
  {
   "cell_type": "code",
   "execution_count": 28,
   "metadata": {},
   "outputs": [
    {
     "name": "stdout",
     "output_type": "stream",
     "text": [
      "[0 1 1 1 0 1 1 1 1 1 1 1 1 1 1 1 1 1 1 1 1 1 1 1 1 1 1 1 1 1 0 1 1 1 1 1 1\n",
      " 1 0 1 1 1 1 0 1 1 1 1 1 1 1 1 1 1 1 1 0 0 0 0 0 0 0 0 0 0 0 0 0 0 0 0 0 0\n",
      " 0 0 0 0 0 0 0 0 1 0 0 0 0 0 0 0 0 0 0 0 0 0 0 0 0 1]\n"
     ]
    }
   ],
   "source": [
    "predicts = mnb.predict(X_test)\n",
    "print(predicts)"
   ]
  },
  {
   "cell_type": "markdown",
   "metadata": {},
   "source": [
    "# Akurasi secara umum"
   ]
  },
  {
   "cell_type": "code",
   "execution_count": 29,
   "metadata": {},
   "outputs": [
    {
     "data": {
      "text/plain": [
       "0.9"
      ]
     },
     "execution_count": 29,
     "metadata": {},
     "output_type": "execute_result"
    }
   ],
   "source": [
    "# Kita gunakan metric yang umum\n",
    "from sklearn.metrics import accuracy_score\n",
    "\n",
    "accuracy_score(Label_testing_umum, predicts)\n",
    "# 72% not bad ...."
   ]
  },
  {
   "cell_type": "markdown",
   "metadata": {},
   "source": [
    "# Cross Validation model Naive Bayes"
   ]
  },
  {
   "cell_type": "code",
   "execution_count": 30,
   "metadata": {},
   "outputs": [
    {
     "name": "stdout",
     "output_type": "stream",
     "text": [
      "Done!\n"
     ]
    }
   ],
   "source": [
    "# Cross validation\n",
    "from sklearn.model_selection import cross_val_score\n",
    "from sklearn import metrics\n",
    "from sklearn.naive_bayes import MultinomialNB\n",
    "\n",
    "model = MultinomialNB()\n",
    "scores = cross_val_score(model, tfidf, Label_testing_cv, cv=10) # perhatikan sekarang kita menggunakan seluruh data\n",
    "#tfidf sebagai X dependent; labels sebagai y\n",
    "print('Done!')"
   ]
  },
  {
   "cell_type": "code",
   "execution_count": 31,
   "metadata": {},
   "outputs": [
    {
     "name": "stdout",
     "output_type": "stream",
     "text": [
      "Accuracy: 0.77 (+/- 0.24)\n"
     ]
    }
   ],
   "source": [
    "print(\"Accuracy: %0.2f (+/- %0.2f)\" % (scores.mean(), scores.std() * 2))"
   ]
  },
  {
   "cell_type": "markdown",
   "metadata": {},
   "source": [
    "# Klasifikasi K-NN"
   ]
  },
  {
   "cell_type": "code",
   "execution_count": 32,
   "metadata": {},
   "outputs": [],
   "source": [
    "from sklearn.neighbors import KNeighborsClassifier"
   ]
  },
  {
   "cell_type": "code",
   "execution_count": 33,
   "metadata": {},
   "outputs": [
    {
     "data": {
      "text/plain": [
       "0.81"
      ]
     },
     "execution_count": 33,
     "metadata": {},
     "output_type": "execute_result"
    }
   ],
   "source": [
    "knn = KNeighborsClassifier(n_neighbors=14)\n",
    "## Fit the model on the training data.\n",
    "knn.fit(X_train, label)\n",
    "## See how the model performs on the test data.\n",
    "knn.score(X_test, Label_testing_umum)"
   ]
  },
  {
   "cell_type": "markdown",
   "metadata": {},
   "source": [
    "# Prediksi K-NN"
   ]
  },
  {
   "cell_type": "code",
   "execution_count": 34,
   "metadata": {},
   "outputs": [
    {
     "name": "stdout",
     "output_type": "stream",
     "text": [
      "[0 1 1 1 0 1 1 1 1 1 1 1 1 1 0 1 1 1 0 1 1 1 1 1 0 1 1 1 1 1 0 0 1 1 0 1 1\n",
      " 1 0 1 1 1 1 0 0 1 1 0 1 1 1 1 1 0 0 1 0 0 0 0 0 0 0 0 0 0 0 0 0 0 0 0 0 0\n",
      " 0 0 0 0 0 0 0 0 1 0 0 0 0 0 0 0 0 0 0 0 0 0 0 0 0 1]\n"
     ]
    }
   ],
   "source": [
    "predicts = knn.predict(X_test)\n",
    "print(predicts)"
   ]
  },
  {
   "cell_type": "markdown",
   "metadata": {},
   "source": [
    "# Akurasi K-NN secara umum"
   ]
  },
  {
   "cell_type": "code",
   "execution_count": 35,
   "metadata": {},
   "outputs": [
    {
     "data": {
      "text/plain": [
       "0.81"
      ]
     },
     "execution_count": 35,
     "metadata": {},
     "output_type": "execute_result"
    }
   ],
   "source": [
    "# Kita gunakan metric yang umum\n",
    "from sklearn.metrics import accuracy_score\n",
    "\n",
    "accuracy_score(Label_testing_umum, predicts)\n",
    "# 72% not bad ...."
   ]
  },
  {
   "cell_type": "markdown",
   "metadata": {},
   "source": [
    "# Cross Validation model K-NN"
   ]
  },
  {
   "cell_type": "code",
   "execution_count": 36,
   "metadata": {},
   "outputs": [
    {
     "name": "stdout",
     "output_type": "stream",
     "text": [
      "Done!\n"
     ]
    }
   ],
   "source": [
    "# Cross validation\n",
    "from sklearn.model_selection import cross_val_score\n",
    "from sklearn import metrics\n",
    "from sklearn.naive_bayes import MultinomialNB\n",
    "\n",
    "model = KNeighborsClassifier(n_neighbors=12)\n",
    "scores = cross_val_score(model, tfidf, Label_testing_cv, cv=10) # perhatikan sekarang kita menggunakan seluruh data\n",
    "#tfidf sebagai X dependent; labels sebagai y\n",
    "print('Done!')"
   ]
  },
  {
   "cell_type": "code",
   "execution_count": 37,
   "metadata": {},
   "outputs": [
    {
     "name": "stdout",
     "output_type": "stream",
     "text": [
      "Accuracy: 0.74 (+/- 0.22)\n"
     ]
    }
   ],
   "source": [
    "print(\"Accuracy: %0.2f (+/- %0.2f)\" % (scores.mean(), scores.std() * 2))"
   ]
  },
  {
   "cell_type": "code",
   "execution_count": null,
   "metadata": {},
   "outputs": [],
   "source": []
  }
 ],
 "metadata": {
  "kernelspec": {
   "display_name": "Python 3",
   "language": "python",
   "name": "python3"
  },
  "language_info": {
   "codemirror_mode": {
    "name": "ipython",
    "version": 3
   },
   "file_extension": ".py",
   "mimetype": "text/x-python",
   "name": "python",
   "nbconvert_exporter": "python",
   "pygments_lexer": "ipython3",
   "version": "3.6.5"
  }
 },
 "nbformat": 4,
 "nbformat_minor": 2
}
